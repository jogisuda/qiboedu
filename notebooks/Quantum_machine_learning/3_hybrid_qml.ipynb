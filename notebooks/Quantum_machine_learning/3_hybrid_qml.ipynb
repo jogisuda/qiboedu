{
 "cells": [
  {
   "cell_type": "markdown",
   "metadata": {},
   "source": [
    "# Lie-Equivariant Quantum Graph Neural Network (Lie-EQGNN)"
   ]
  },
  {
   "cell_type": "markdown",
   "metadata": {},
   "source": [
    "In this notebook, we will walk you through an interesting application for hybrid quantum-classical machine learning. Specifically, we will be covering the architecture from the \"[Lie-Equivariant Quantum Graph Neural Network (Lie-EQGNN)](https://arxiv.org/abs/2411.15315)\" paper. There is substantial evidence showing that QML models can suffer from poor trainability and generalization [2,3,4], and a well-known phenomenon that illustrates this is the concentration of measure, also known in the community as barren plateaus. Essentially, high-dimensional functions tend to have their measures concentrated around their mean [5]. This results in a flatter landscape, with gradients going close to zero, making it challenging to locate minima. For QML, this is especially true, since our models generally work in exponentially large Hilbert spaces compared to classical neural networks, for instance. As a consequence, efficiently designing new parameterized circuit architectures is crucial. In this tutorial, we explore a hybrid and symmetry-preserving architecture for an important task in particle physics known as jet tagging. By preserving symmetries, we potentially gain many benefits, like reduced sample and model complexity, and improved generalization bounds - due to an effectively reduced hypothesis space.\n",
    "\n",
    "Below, we begin by importing all the necessary packages, and notice that, for QiBO, we'll be using the PyTorch backend for this tutorial."
   ]
  },
  {
   "cell_type": "code",
   "execution_count": 1,
   "metadata": {},
   "outputs": [
    {
     "name": "stderr",
     "output_type": "stream",
     "text": [
      "[Qibo 0.2.18|INFO|2025-06-17 06:43:20]: Using qiboml (pytorch) backend on cuda:0\n"
     ]
    }
   ],
   "source": [
    "import numpy as np\n",
    "import matplotlib.pyplot as plt\n",
    "\n",
    "import torch\n",
    "from torch.utils.data import TensorDataset, DataLoader, random_split\n",
    "from scipy.sparse import coo_matrix\n",
    "\n",
    "from qibo.symbols import Z, I\n",
    "from qibo.hamiltonians import SymbolicHamiltonian\n",
    "from qiboml.models.encoding import PhaseEncoding\n",
    "from qibo import Circuit, gates, hamiltonians\n",
    "from qiboml.models.decoding import QuantumDecoding\n",
    "from qiboml.interfaces.pytorch import QuantumModel\n",
    "from qibo import set_backend\n",
    "\n",
    "set_backend(\"qiboml\",platform=\"pytorch\")"
   ]
  },
  {
   "cell_type": "markdown",
   "metadata": {},
   "source": [
    "# 1. Dataset\n",
    "\n",
    "In this work, we consider the task of determining whether a given particle jet originated from a quark or a gluon (this is known as jet-tagging). For illustration we use the high energy physics dataset $\\text{\\textit{Pythia8 Quark and Gluon Jets for Energy Flow}}$ (Patrick T. Komiske et al, 2019), which contains two million jets split equally into one million quark jets and one million gluon jets. These jets resulted from LHC collisions with total center of mass energy $\\sqrt{s} = 14$ TeV and were selected to have transverse momenta $p_T^{jet}$ between $500$ to $550$ GeV and rapidities $|y^{jet}| < 1.7$. For our analysis, we randomly picked $N = 12500$ jets and used the first $10000$ for training, the next $1250$ for validation, and the last $1250$ for testing. These sets happened to contain $4982$, $658$, and $583$ quark jets, respectively.\n",
    "\n",
    "<img src=\"../figures/particle_cloud_mpgan.png\" width=65% style=\"margin-left:auto; margin-right:auto\">\n",
    "\n",
    "*(Figure: the coordinate system (left) used to represent components of the particle momentum $\\vec{p}$. Schematic representation of a gluon jet (middle) and a quark jet (right). The jet constituents (solid lines)  are collimated around the jet axis. [Figure adapted from Fig.~1 in (Raghav Kansal et al, 2021).])*\n",
    "\n",
    "\n",
    "For our purposes, we consider the jet dataset to be constituted of point-clouds, where each jet is represented as a graph $\\mathcal{G} = \\{\\mathcal{V,E}\\}$, i.e., a set of nodes and edges, respectively. (This is the natural data structure used by Graph Neural Networks.) In our case, each node has the transverse momentum $p_T$, pseudorapidity $\\eta$, azimuthal angle $\\phi$ (and other scalar-like quantities like particle ID, particle mass, etc.) of the respective constituent particle in the jet (see the Figure above). Generally, the number of features is always constant, but the number of nodes in each jet may vary. For our analysis we used jets with at least 10 particles."
   ]
  },
  {
   "cell_type": "code",
   "execution_count": 2,
   "metadata": {},
   "outputs": [],
   "source": [
    "# to begin loading the jets, we will need some auxiliary functions to handle the graphical format.\n",
    "# Feel free to just run this part and skip to the next section, where the model is defined.\n",
    "\n",
    "def get_adj_matrix(n_nodes, batch_size, edge_mask):\n",
    "    rows, cols = [], []\n",
    "    for batch_idx in range(batch_size):\n",
    "        nn = batch_idx*n_nodes\n",
    "        x = coo_matrix(edge_mask[batch_idx])\n",
    "        rows.append(nn + x.row)\n",
    "        cols.append(nn + x.col)\n",
    "    rows = np.concatenate(rows)\n",
    "    cols = np.concatenate(cols)\n",
    "    edges = [torch.LongTensor(rows), torch.LongTensor(cols)]\n",
    "    \n",
    "    return edges\n",
    "\n",
    "def collate_fn(data):\n",
    "    data = list(zip(*data)) # label p4s nodes atom_mask\n",
    "    data = [torch.stack(item) for item in data]\n",
    "    batch_size, n_nodes, _ = data[1].size()\n",
    "    atom_mask = data[-1]\n",
    "    edge_mask = data[-2]\n",
    "    edges = get_adj_matrix(n_nodes, batch_size, edge_mask)\n",
    "    return data + [edges]\n",
    "\n",
    "\n",
    "def load_jets(p4s, nodes, labels, atom_mask, edge_mask, edges, batch_size, train_ratio, val_ratio, test_ratio):\n",
    "  \n",
    "    # Create a TensorDataset\n",
    "    dataset_all = TensorDataset(labels, p4s, nodes, atom_mask, edge_mask)\n",
    "    \n",
    "    # Calculate the lengths for each split\n",
    "    total_size = len(dataset_all)\n",
    "    train_size = int(total_size * train_ratio)\n",
    "    val_size = int(total_size * val_ratio)\n",
    "    test_size = total_size - train_size - val_size  # Ensure all data is used\n",
    "    \n",
    "    # Split the dataset\n",
    "    train_dataset, val_dataset, test_dataset = random_split(dataset_all, [train_size, val_size, test_size])\n",
    "    \n",
    "    # Create a dictionary to hold the datasets\n",
    "    datasets = {\n",
    "        \"train\": train_dataset,\n",
    "        \"val\": val_dataset,\n",
    "        \"test\": test_dataset\n",
    "    }\n",
    "    \n",
    "    dataloaders = {split: DataLoader(dataset,\n",
    "                                     batch_size=batch_size,\n",
    "                                     pin_memory=False,\n",
    "                                     collate_fn = collate_fn,\n",
    "                                     drop_last=True if (split == 'train') else False,\n",
    "                                     num_workers=0)\n",
    "                        for split, dataset in datasets.items()}\n",
    "\n",
    "    return dataloaders"
   ]
  },
  {
   "cell_type": "markdown",
   "metadata": {},
   "source": [
    "## Let's load the jet tagging dataset"
   ]
  },
  {
   "cell_type": "code",
   "execution_count": 3,
   "metadata": {},
   "outputs": [],
   "source": [
    "p4s = torch.load('../data/p4s.pt')\n",
    "nodes = torch.load('../data/nodes.pt')\n",
    "labels = torch.load('../data/labels.pt')\n",
    "atom_mask = torch.load('../data/atom_mask.pt')\n",
    "edge_mask = torch.from_numpy(np.load('../data/edge_mask.npy'))\n",
    "edges = torch.from_numpy(np.load('../data/edges.npy'))\n",
    "\n",
    "train_ratio = 0.8\n",
    "val_ratio = 0.1\n",
    "test_ratio = 0.1\n",
    "\n",
    "dataloaders = load_jets(p4s, nodes, labels, atom_mask, edge_mask, edges, 16, train_ratio, val_ratio, test_ratio)"
   ]
  },
  {
   "cell_type": "markdown",
   "metadata": {},
   "source": [
    "### Variables for jet tagging:"
   ]
  },
  {
   "cell_type": "code",
   "execution_count": 4,
   "metadata": {},
   "outputs": [
    {
     "name": "stdout",
     "output_type": "stream",
     "text": [
      "p4s: \ttorch.Size([12500, 3, 4]),\n",
      "nodes: \ttorch.Size([12500, 3, 1]),\n",
      "labels: \ttorch.Size([12500]),\n",
      "atom_mask: \ttorch.Size([12500, 3]), \n",
      "edge_mask: \ttorch.Size([12500, 3, 3]),\n",
      "edges: \ttorch.Size([2, 75000])\n"
     ]
    }
   ],
   "source": [
    "print(f\"\"\"p4s: \\t{p4s.shape},\n",
    "nodes: \\t{nodes.shape},\n",
    "labels: \\t{labels.shape},\n",
    "atom_mask: \\t{atom_mask.shape}, \n",
    "edge_mask: \\t{edge_mask.shape},\n",
    "edges: \\t{edges.shape}\"\"\")"
   ]
  },
  {
   "cell_type": "markdown",
   "metadata": {},
   "source": [
    "p4s:       4-momentum tensor of particles in each jet sample with shape [n_samples, n_particles, 4] \n",
    "            \n",
    "nodes:     Additional features per particle (e.g., PID or learned embedding), shape [n_samples, n_particles, 1]\n",
    "\n",
    "labels:    Jet-level labels for classification (e.g., quark vs gluon), shape [n_samples]\n",
    "\n",
    "atom_mask: Binary mask indicating which particles are valid (not padding), shape [n_samples, n_particles]\n",
    "\n",
    "edge_mask: Binary mask indicating which particle-pair interactions (edges) are valid, shape [n_samples, n_particles, n_particles]\n",
    "\n",
    "edges:     Edge list for message-passing (graph connectivity), shape [2, n_edges], with each column (src, dst) across all samples\n"
   ]
  },
  {
   "cell_type": "markdown",
   "metadata": {},
   "source": [
    "# 2. Quantum and Classical Graph Neural Networks\n",
    "\n",
    "Graph Neural Networks (GNNs) are a class of neural networks designed to operate on graph-structured data. Unlike traditional neural networks that work on Euclidean data such as images or sequences, GNNs are capable of capturing the dependencies and relationships between nodes in a graph. The fundamental idea behind is to iteratively update the representation of each node by aggregating information from its neighbors, thereby enabling the network to learn both local and global graph structures.\n",
    "\n",
    "Given the inherent graph structure of our dataset, which captures the complex interactions and relationships between particles, it is natural to employ graph neural networks (GNNs) for the task of tagging quarks versus gluons. GNNs have been successfully applied in particle physics for such classification tasks, as discussed in the paper \"[Graph Neural Networks in Particle Physics](https://arxiv.org/abs/2007.13681)\" by Shlomi et al. (2020). We start our approach with another classical, symmetry-preserving GNN to establish a foundational understanding and then discuss how we can extend this setting to introduce quantum computing.\n",
    "\n",
    "To start, let $ G = (V, E) $ be a graph where $ V $ is its corresponding, set of nodes and $ E $ is its set of edges. Each node $ v \\in V $ has an initial feature vector $ \\mathbf{h}_v^{(0)} $, which is updated throughout multiple layers of the GNN. At each layer $ l $, the feature vector of the node $ v $ is updated by aggregating the neighboring feature vectors $ \\mathcal{N}(v) $, and then combining them with its own features. The final node representations can be used for various downstream tasks such as node classification, link prediction, or graph classification. The latter is our case."
   ]
  },
  {
   "cell_type": "markdown",
   "metadata": {},
   "source": [
    "# A primer to invariance-equivariance constraint\n",
    "\n",
    "As a simple way to illustrate how it is possible to bake a group-equivariance constraint into a GNN, consider a dataset of graphs in which its nodes have cartesian coordinates as inputs features, and let $SO(2)$ - the group of $2D$ rotations - be their underlying symmetry group. Since the Euclidean norm is invariant to rotations, any node-updating function of the form:\n",
    "\n",
    "\\begin{equation}\n",
    "    x_{i}^{l+1} = x_{i}^{l} + C\\sum_{j\\in \\mathcal{N}(i)} (x_{i}^{l} - x_{j}^{l})\\;\\phi_x (m_{ij}^{l})\n",
    "\\end{equation}\n",
    "\n",
    "is naturally equivariant, where $\\phi_x$ can be a classical neural network, and $m_{ij}^{l}$ is the edge message between nodes $i$ and $j$ in layer $l$. To see why equivariance holds in this case, we just need to see that, for any arbitrary rotation matrix $R$:\n",
    "\n",
    "\\begin{align}\n",
    "    R x_{i}^{l+1} &= R x_{i}^{l} + C\\sum_{j\\in \\mathcal{N}(i)} (R x_{i}^{l} - R x_{j}^{l})\\;\\phi_x (m_{ij}^{l})\\\\\n",
    "    &= R x_{i}^{l} + C\\sum_{j\\in \\mathcal{N}(i)} R (x_{i}^{l} - x_{j}^{l})\\;\\phi_x (m_{ij}^{l})\\\\\n",
    "    &= R(x_{i}^{l} + C\\sum_{j\\in \\mathcal{N}(i)}(x_{i}^{l} - x_{j}^{l})\\;\\phi_x (m_{ij}^{l}) )\n",
    "\\end{align}\n",
    "\n",
    "This means that applying a rotation from the inside, directly transforming the data points (nodes), and then updating their coordinate, is equivalent to applying a rotation from the outside, that is, first updating their coordinate, and then acting with the group. The equation above implies that $m_{ij}^{l}$ also needs to be invariant, which can be achieved by having its inputs also being invariant measures,  like the euclidean norm given above and the standard dot-product, since $\\langle x, y\\rangle = \\langle Rx, Ry\\rangle$; it is easy to check, then, that equivariance breaks on the contrary. In the next section, we show how using a very similar formulation allows us to preserve the Lorentz group, a key symmetry in all of relativistic quantum field theory and inherent to almost all tasks involving high-energy particle scattering experiments, like we do in the Large Hadron Collider (LHC), at CERN."
   ]
  },
  {
   "cell_type": "markdown",
   "metadata": {},
   "source": [
    "# 3. LorentzNet\n",
    "The first Lorentz-group preserving architecture we shall see is a very well known one in the particle physics community, called **LorentzNet** ([arXiv:2201.08187](https://arxiv.org/abs/2201.08187)). This is going to be a classical model, and through the course of this tutorial we'll understand where to fit in quantum computing, which will be the heart of our approach. Before any quantum, let's see what this classical model is doing first. The whole idea is to preserve the group actions by using universally-approximating Lorentz-equivariant polynomials, which will be responsible for the message passing scheme, and also updating the particle scalar and four-momentum latent representations. We can illustrate it as follows:\n",
    "\n",
    "<center>\n",
    "<img src=\"../figures/LorentzNet.png\" width=\"65%\" style=\"margin-left:auto; margin-right:auto\">\n",
    "</center>\n",
    "\n",
    "*(Figure: Schematic representation of the LorentzNet architecture.)*\n",
    "\n",
    "\n",
    "From the beginning, the **input** here consists of a concatenation of four-momentum vectors (called just particle coordinates from now on) and additional scalar features, like color, charge, flavor, etc. The combined feature vector for each particle (node) is:\n",
    "\n",
    "$$\n",
    "f_i = v_i \\oplus s_i,\n",
    "$$\n",
    "\n",
    "where $\\oplus$ denotes concatenation. Next, we turn to the core building block of this architecture:\n",
    "\n",
    "**Lorentz Group Equivariant Block (LGEB)**\n",
    "\n",
    "This is where the node and edge features are updated while preserving the Lorentz equivariance. The key components are symmetry-preserving functions for updating the coordinate, scalar and edge message features. Let's check:\n",
    "\n",
    "1. **Invariant Edge Message Function $\\phi_e$**:\n",
    "   - Computes messages passed between particles.\n",
    "   - Captures pairwise interactions and relativistic geometrical relationships.\n",
    "   - Depends on Lorentz-invariant scalars, hence the edge message is invariant.\n",
    "     \n",
    "2. **Equivariant Coordinate Update Function $\\phi_x$**:\n",
    "   - Updates the coordinate embeddings of particles.\n",
    "   - Incorporates attention mechanisms respecting Minkowski spacetime.\n",
    "   - Ensures Lorentz-equivariance in its definition.\n",
    "     \n",
    "3. **Invariant Scalar Feature Update Function $\\phi_h$**:\n",
    "   - Updates scalar features of particles.\n",
    "   - Aggregates information from neighboring particles.\n",
    "   - Again, depends on Lorentz-invariant scalar features, so it is also invariant.\n",
    "     \n",
    "These functions are modeled using neural networks capable of approximating continuous functions. Here, in each $\\phi$, we are going to introduce quantum neural networks to add more expressivity to the mix. Since QNNs are also universal approximators, we are good to go.\n",
    "\n",
    "## 3.3. Detailed Formulation\n",
    "\n",
    "1. **Edge Message Computation $\\phi_e$**:\n",
    "\n",
    "   For particles $i$ and $j$ at layer $l$, the **edge message** $m_{ij}^{l}$ is computed as:\n",
    "\n",
    "   $$\n",
    "   m_{ij}^{l} = \\phi_e \\left( h_i^{l}, h_j^{l}, \\psi\\left( \\| x_i^{l} - x_j^{l} \\|^2 \\right), \\psi\\left( \\langle x_i^{l}, x_j^{l} \\rangle \\right) \\right),\n",
    "   $$\n",
    "\n",
    "   where:\n",
    "\n",
    "   - $h_i^{l}$ and $h_j^{l}$ are the scalar features of particles $i$ and $j$ at layer $l$.\n",
    "   - $x_i^{l}$ and $x_j^{l}$ are the coordinate embeddings (four-vectors) at layer $l$.\n",
    "   - $\\| x_i^{l} - x_j^{l} \\|^2$ is the squared Minkowski **distance** between particles $i$ and $j$.\n",
    "   - $\\langle x_i^{l}, x_j^{l} \\rangle$ is the Minkowski **inner product** (Lorentz dot product).\n",
    "   - $\\psi(\\cdot)$ is a normalization function to help stabilize the gradients due to large numbers, and is defined in the paper as:\n",
    "\n",
    "     $$\n",
    "     \\psi(a) = \\operatorname{sgn}(a) \\cdot \\log\\left( |a| + 1 \\right),\n",
    "     $$\n",
    "\n",
    "     with $\\operatorname{sgn}(a)$ being the sign function.\n",
    "\n",
    "2. **Coordinate Embedding Update $\\phi_x$**:\n",
    "\n",
    "   The **coordinate embeddings** of particles are updated by a neighborhood-dependent equivariant function:\n",
    "\n",
    "   $$\n",
    "   x_i^{l+1} = x_i^{l} + c \\sum_{j \\in \\mathcal{N}(i)} \\phi_x ( m_{ij}^{l}) \\cdot x_j^{l},\n",
    "   $$\n",
    "\n",
    "   where:\n",
    "\n",
    "   - $\\mathcal{N}(i)$ denotes the **neighborhood** of particle $i$, i.e., particles connected to $i$ in the graph.\n",
    "   - $c$ is a scaling constant controlling the update magnitude.\n",
    "   - $\\phi_x ( m_{ij}^{l})$ computes an **attention weight** based on the edge message $m_{ij}^{l}$.\n",
    "\n",
    "\n",
    "3. **Scalar Feature Update $\\phi_h$**:\n",
    "\n",
    "   Finally, the **scalar features** are updated as:\n",
    "\n",
    "   $$\n",
    "   h_i^{l+1} = h_i^{l} + \\phi_h \\left( h_i^{l}, \\sum_{j \\in \\mathcal{N}(i)} w_{ij}^{l} m_{ij}^{l} \\right),\n",
    "   $$\n",
    "\n",
    "   where:\n",
    "\n",
    "   - $w_{ij}^{l}$ is an **edge significance weight** calculated by:\n",
    "\n",
    "     $$\n",
    "     w_{ij}^{l} = \\phi_m \\left( m_{ij}^{l} \\right) \\in [0, 1],\n",
    "     $$\n",
    "\n",
    "     with $\\phi_m$ being a neural network outputting values in the range [0, 1].\n",
    "\n",
    "   - $\\phi_h$ aggregates information from neighboring particles to update $h_i^{l}$.\n",
    "\n",
    "The purpose of $w_{ij}^{l}$ is to learn the importance of the edge connecting particles $i$ and $j$, and $\\phi_h$ integrates these weighted messages to refine the scalar features, so our model can potentially learn more complex interactions.\n",
    "\n",
    "A noteworthy aspect of LorentzNet is its approach to handling outputs: although both **coordinate embeddings** $x_i^{l}$ and **scalar features** $h_i^{l}$ are updated through the layers, the final output only uses the **scalar features** $h_i^{L}$ from the last layer $L$. This strategy reduces redundancy and computational overhead because the edge messages $m_{ij}^{l}$ already incorporate information from both $x_i^{l}$ and $x_j^{l}$.\n",
    "      \n",
    "**Implementation Details**\n",
    "\n",
    "To ensure fidelity with the original LorentzNet architecture and leverage existing optimizations, we utilize the official implementation provided by the authors:\n",
    "\n",
    "- **Repository**: [LorentzNet-release](https://github.com/sdogsq/LorentzNet-release/tree/main)"
   ]
  },
  {
   "cell_type": "markdown",
   "metadata": {},
   "source": [
    "## Let's define our parameterized circuits.\n",
    "\n",
    "In order to measure multiple observables and perform gradient descent afterwards, the first thing that we'll need is to define a CustomDecoder. Before anything else, let's also define an auxiliary function to create a list of observables of the form\n",
    "\n",
    "\\begin{align*}\n",
    "\\text{Observables }=[\\hat{\\sigma}_z &\\otimes \\mathbb{I} \\otimes \\mathbb{I} \\otimes \\cdots \\otimes \\mathbb{I},\\\\\n",
    "\\mathbb{I} &\\otimes \\hat{\\sigma}_z \\otimes \\mathbb{I} \\otimes \\cdots \\otimes \\mathbb{I},\\\\\n",
    "\\mathbb{I} &\\otimes \\mathbb{I} \\otimes \\hat{\\sigma}_z \\otimes \\cdots \\otimes \\mathbb{I},\\\\\n",
    "\\mathbb{I} &\\otimes \\mathbb{I} \\otimes \\mathbb{I} \\otimes \\cdots \\otimes \\hat{\\sigma}_z]\n",
    "\\end{align*}"
   ]
  },
  {
   "cell_type": "code",
   "execution_count": 5,
   "metadata": {},
   "outputs": [],
   "source": [
    "def create_hamiltonians(n_qubits):\n",
    "\n",
    "    measurements = []\n",
    "    for i in range(n_qubits):\n",
    "        hamiltonians = [I(i) for i in range(n_qubits)]\n",
    "        hamiltonians[i] = Z(i)\n",
    "    \n",
    "        H = 1\n",
    "        for term in hamiltonians:\n",
    "            H *= term\n",
    "            \n",
    "        H = SymbolicHamiltonian(H)\n",
    "        measurements.append(H)\n",
    "    \n",
    "    return measurements"
   ]
  },
  {
   "cell_type": "code",
   "execution_count": 6,
   "metadata": {},
   "outputs": [],
   "source": [
    "class CustomDecoderMultipleZ(QuantumDecoding):\n",
    "\n",
    "    def __init__(self, nqubits: int):\n",
    "        super().__init__(nqubits)\n",
    "        # build the observables using qibo's SymbolicHamiltonian\n",
    "        self.nqubits = nqubits\n",
    "        self.hamilts = create_hamiltonians(nqubits)\n",
    "\n",
    "    def __call__(self, x: Circuit):\n",
    "        # execute the circuit and collect the final state\n",
    "        state = super().__call__(x).state()\n",
    "\n",
    "        # collect expectation values (each one must be a torch Tensor!)\n",
    "        expvals = [self.hamilts[i].expectation(state)        # scalar tensor\n",
    "                   for i in range(self.nqubits)]\n",
    "\n",
    "        # stack them without breaking the graph\n",
    "        return torch.stack(expvals)      # shape (nqubits,)\n",
    "        \n",
    "    # specify the shape of the output\n",
    "    @property\n",
    "    def output_shape(self) -> tuple[int]:\n",
    "        return (self.nqubits)"
   ]
  },
  {
   "cell_type": "code",
   "execution_count": 7,
   "metadata": {},
   "outputs": [],
   "source": [
    "\n",
    "def create_quantum_net(n_qubits, nlayers):\n",
    "\n",
    "    qubits = list(range(n_qubits))\n",
    "    \n",
    "    # define the encoding\n",
    "    encoding = PhaseEncoding(nqubits=n_qubits)\n",
    "\n",
    "    # build the computation circuit\n",
    "    circuit = Circuit(n_qubits)\n",
    "\n",
    "    decoding = CustomDecoderMultipleZ(n_qubits)\n",
    "    \n",
    "    circuit.add(gates.H(q) for q in qubits)\n",
    "    for layer in range(nlayers):\n",
    "        for q in qubits:\n",
    "            circuit.add(gates.RY(q, theta=torch.randn(1) * np.pi, trainable=True)) # random.random()\n",
    "            circuit.add(gates.RZ(q, theta=torch.randn(1) * np.pi, trainable=True))\n",
    "\n",
    "        if n_qubits > 1:\n",
    "            for i, q in enumerate(qubits[:-2]):\n",
    "                circuit.add(gates.CNOT(q0=q, q1=qubits[i + 1]))\n",
    "            circuit.add(gates.CNOT(q0=qubits[-1], q1=qubits[0]))\n",
    "\n",
    "    return encoding, circuit, decoding"
   ]
  },
  {
   "cell_type": "markdown",
   "metadata": {},
   "source": [
    "## Auxiliary functions"
   ]
  },
  {
   "cell_type": "code",
   "execution_count": 8,
   "metadata": {
    "jupyter": {
     "source_hidden": true
    }
   },
   "outputs": [],
   "source": [
    "\"\"\"Some auxiliary functions\"\"\"\n",
    "\n",
    "from math import sqrt\n",
    "import numpy as np\n",
    "import torch\n",
    "\n",
    "# Speed of light (m/s)\n",
    "c = 299792458\n",
    "\n",
    "\"\"\"Lorentz transformations describe the transition between two inertial reference\n",
    "frames F and F', each of which is moving in some direction with respect to the\n",
    "other. This code only calculates Lorentz transformations for movement in the x\n",
    "direction with no spatial rotation (i.e., a Lorentz boost in the x direction).\n",
    "The Lorentz transformations are calculated here as linear transformations of\n",
    "four-vectors [ct, x, y, z] described by Minkowski space. Note that t (time) is\n",
    "multiplied by c (the speed of light) in the first entry of each four-vector.\n",
    "\n",
    "Thus, if X = [ct; x; y; z] and X' = [ct'; x'; y'; z'] are the four-vectors for\n",
    "two inertial reference frames and X' moves in the x direction with velocity v\n",
    "with respect to X, then the Lorentz transformation from X to X' is X' = BX,\n",
    "where\n",
    "\n",
    "    | γ  -γβ  0  0|\n",
    "B = |-γβ  γ   0  0|\n",
    "    | 0   0   1  0|\n",
    "    | 0   0   0  1|\n",
    "\n",
    "is the matrix describing the Lorentz boost between X and X',\n",
    "γ = 1 / √(1 - v²/c²) is the Lorentz factor, and β = v/c is the velocity as\n",
    "a fraction of c.\n",
    "\"\"\"\n",
    "\n",
    "\n",
    "def beta(velocity: float) -> float:\n",
    "    \"\"\"\n",
    "    Calculates β = v/c, the given velocity as a fraction of c\n",
    "    >>> beta(c)\n",
    "    1.0\n",
    "    >>> beta(199792458)\n",
    "    0.666435904801848\n",
    "    \"\"\"\n",
    "    if velocity > c:\n",
    "        raise ValueError(\"Speed must not exceed light speed 299,792,458 [m/s]!\")\n",
    "    elif velocity < 1:\n",
    "        # Usually the speed should be much higher than 1 (c order of magnitude)\n",
    "        raise ValueError(\"Speed must be greater than or equal to 1!\")\n",
    "\n",
    "    return velocity / c\n",
    "\n",
    "\n",
    "def gamma(velocity: float) -> float:\n",
    "    \"\"\"\n",
    "    Calculate the Lorentz factor γ = 1 / √(1 - v²/c²) for a given velocity\n",
    "    >>> gamma(4)\n",
    "    1.0000000000000002\n",
    "    >>> gamma(1e5)\n",
    "    1.0000000556325075\n",
    "    >>> gamma(3e7)\n",
    "    1.005044845777813\n",
    "    >>> gamma(2.8e8)\n",
    "    2.7985595722318277\n",
    "    \"\"\"\n",
    "    return 1 / sqrt(1 - beta(velocity) ** 2)\n",
    "\n",
    "\n",
    "def transformation_matrix(velocity: float) -> np.ndarray:\n",
    "    \"\"\"\n",
    "    Calculate the Lorentz transformation matrix for movement in the x direction:\n",
    "\n",
    "    | γ  -γβ  0  0|\n",
    "    |-γβ  γ   0  0|\n",
    "    | 0   0   1  0|\n",
    "    | 0   0   0  1|\n",
    "\n",
    "    where γ is the Lorentz factor and β is the velocity as a fraction of c\n",
    "    >>> transformation_matrix(29979245)\n",
    "    array([[ 1.00503781, -0.10050378,  0.        ,  0.        ],\n",
    "           [-0.10050378,  1.00503781,  0.        ,  0.        ],\n",
    "           [ 0.        ,  0.        ,  1.        ,  0.        ],\n",
    "           [ 0.        ,  0.        ,  0.        ,  1.        ]])\n",
    "    \"\"\"\n",
    "    return np.array(\n",
    "        [\n",
    "            [gamma(velocity), -gamma(velocity) * beta(velocity), 0, 0],\n",
    "            [-gamma(velocity) * beta(velocity), gamma(velocity), 0, 0],\n",
    "            [0, 0, 1, 0],\n",
    "            [0, 0, 0, 1],\n",
    "        ]\n",
    "    )\n",
    "\n",
    "\n",
    "\n",
    "def unsorted_segment_sum(data, segment_ids, num_segments):\n",
    "    r'''Custom PyTorch op to replicate TensorFlow's `unsorted_segment_sum`.\n",
    "    Adapted from https://github.com/vgsatorras/egnn.\n",
    "    '''\n",
    "    result = data.new_zeros((num_segments, data.size(1)))\n",
    "    result.index_add_(0, segment_ids, data)\n",
    "    return result\n",
    "\n",
    "def unsorted_segment_mean(data, segment_ids, num_segments):\n",
    "    r'''Custom PyTorch op to replicate TensorFlow's `unsorted_segment_mean`.\n",
    "    Adapted from https://github.com/vgsatorras/egnn.\n",
    "    '''\n",
    "    result = data.new_zeros((num_segments, data.size(1)))\n",
    "    count = data.new_zeros((num_segments, data.size(1)))\n",
    "    result.index_add_(0, segment_ids, data)\n",
    "    count.index_add_(0, segment_ids, torch.ones_like(data))\n",
    "    return result / count.clamp(min=1)\n",
    "\n",
    "def normsq4(p):\n",
    "    r''' Minkowski square norm\n",
    "         `\\|p\\|^2 = p[0]^2-p[1]^2-p[2]^2-p[3]^2`\n",
    "    ''' \n",
    "    psq = torch.pow(p, 2)\n",
    "    return 2 * psq[..., 0] - psq.sum(dim=-1)\n",
    "    \n",
    "def dotsq4(p,q):\n",
    "    r''' Minkowski inner product\n",
    "         `<p,q> = p[0]q[0]-p[1]q[1]-p[2]q[2]-p[3]q[3]`\n",
    "    '''\n",
    "    psq = p*q\n",
    "    return 2 * psq[..., 0] - psq.sum(dim=-1)\n",
    "\n",
    "def normA_fn(A):\n",
    "    return lambda p: torch.einsum('...i, ij, ...j->...', p, A, p)\n",
    "\n",
    "def dotA_fn(A):\n",
    "    return lambda p, q: torch.einsum('...i, ij, ...j->...', p, A, q)\n",
    "    \n",
    "def psi(p):\n",
    "    ''' `\\psi(p) = Sgn(p) \\cdot \\log(|p| + 1)`\n",
    "    '''\n",
    "    return torch.sign(p) * torch.log(torch.abs(p) + 1)\n",
    "\n",
    "\n",
    "\n",
    "\n",
    "\n",
    "##############################\n",
    "\n",
    "\n",
    "def makedir(path):\n",
    "    try:\n",
    "        os.makedirs(path)\n",
    "    except OSError:\n",
    "        pass\n",
    "\n",
    "def args_init(args):\n",
    "    r''' Initialize seed and exp_name.\n",
    "    '''\n",
    "    if args.seed is None: # use random seed if not specified\n",
    "        args.seed = np.random.randint(100)\n",
    "    if args.exp_name == '': # use random strings if not specified\n",
    "        args.exp_name = ''.join(random.choices(string.ascii_lowercase + string.digits, k=8))\n",
    "    if (args.local_rank == 0): # master\n",
    "        print(args)\n",
    "        makedir(f\"{args.logdir}/{args.exp_name}\")\n",
    "        with open(f\"{args.logdir}/{args.exp_name}/args.json\", 'w') as f:\n",
    "            json.dump(args.__dict__, f, indent=4)\n",
    "\n",
    "def sum_reduce(num, device):\n",
    "    r''' Sum the tensor across the devices.\n",
    "    '''\n",
    "    if not torch.is_tensor(num):\n",
    "        rt = torch.tensor(num).to(device)\n",
    "    else:\n",
    "        rt = num.clone()\n",
    "    dist.all_reduce(rt, op=dist.ReduceOp.SUM)\n",
    "    return rt\n",
    "\n",
    "from torch.optim.lr_scheduler import _LRScheduler\n",
    "from torch.optim.lr_scheduler import ReduceLROnPlateau\n",
    "\n",
    "class GradualWarmupScheduler(_LRScheduler):\n",
    "    \"\"\" Gradually warm-up(increasing) learning rate in optimizer.\n",
    "    Proposed in 'Accurate, Large Minibatch SGD: Training ImageNet in 1 Hour'.\n",
    "    Args:\n",
    "        optimizer (Optimizer): Wrapped optimizer.\n",
    "        multiplier: target learning rate = base lr * multiplier if multiplier > 1.0. if multiplier = 1.0, lr starts from 0 and ends up with the base_lr.\n",
    "        warmup_epoch: target learning rate is reached at warmup_epoch, gradually\n",
    "        after_scheduler: after target_epoch, use this scheduler(eg. ReduceLROnPlateau)\n",
    "    Reference:\n",
    "        https://github.com/ildoonet/pytorch-gradual-warmup-lr\n",
    "    \"\"\"\n",
    "\n",
    "    def __init__(self, optimizer, multiplier, warmup_epoch, after_scheduler=None):\n",
    "        self.multiplier = multiplier\n",
    "        if self.multiplier < 1.:\n",
    "            raise ValueError('multiplier should be greater thant or equal to 1.')\n",
    "        self.warmup_epoch = warmup_epoch\n",
    "        self.after_scheduler = after_scheduler\n",
    "        self.finished = False\n",
    "        super(GradualWarmupScheduler, self).__init__(optimizer)\n",
    "\n",
    "    @property\n",
    "    def _warmup_lr(self):\n",
    "        if self.multiplier == 1.0:\n",
    "            return [base_lr * (float(self.last_epoch + 1) / self.warmup_epoch) for base_lr in self.base_lrs]\n",
    "        else:\n",
    "            return [base_lr * ((self.multiplier - 1.) * (self.last_epoch + 1) / self.warmup_epoch + 1.) for base_lr in self.base_lrs]\n",
    "\n",
    "    def get_lr(self):\n",
    "        if self.last_epoch >= self.warmup_epoch - 1:\n",
    "            if self.after_scheduler:\n",
    "                if not self.finished:\n",
    "                    self.after_scheduler.base_lrs = [base_lr * self.multiplier for base_lr in self.base_lrs]\n",
    "                    self.finished = True\n",
    "                return self.after_scheduler.get_last_lr()\n",
    "            return [base_lr * self.multiplier for base_lr in self.base_lrs]\n",
    "\n",
    "        return self._warmup_lr\n",
    "\n",
    "    def step_ReduceLROnPlateau(self, metrics, epoch=None):\n",
    "        self.last_epoch = self.last_epoch + 1 if epoch==None else epoch\n",
    "        if self.last_epoch >= self.warmup_epoch - 1:\n",
    "            if not self.finished:\n",
    "                warmup_lr = [base_lr * self.multiplier for base_lr in self.base_lrs]\n",
    "                for param_group, lr in zip(self.optimizer.param_groups, warmup_lr):\n",
    "                    param_group['lr'] = lr\n",
    "                self.finished = True\n",
    "                return\n",
    "            if epoch is None:\n",
    "                self.after_scheduler.step(metrics, None)\n",
    "            else:\n",
    "                self.after_scheduler.step(metrics, epoch - self.warmup_epoch)\n",
    "            return\n",
    "\n",
    "        for param_group, lr in zip(self.optimizer.param_groups, self._warmup_lr):\n",
    "            param_group['lr'] = lr\n",
    "\n",
    "    def step(self, epoch=None, metrics=None):\n",
    "        if type(self.after_scheduler) != ReduceLROnPlateau:\n",
    "            if self.finished and self.after_scheduler:\n",
    "                if epoch is None:\n",
    "                    self.after_scheduler.step(None)\n",
    "                else:\n",
    "                    self.after_scheduler.step(epoch - self.warmup_epoch)\n",
    "                self.last_epoch = self.after_scheduler.last_epoch + self.warmup_epoch + 1\n",
    "                self._last_lr = self.after_scheduler.get_last_lr()\n",
    "            else:\n",
    "                return super(GradualWarmupScheduler, self).step(epoch)\n",
    "        else:\n",
    "            self.step_ReduceLROnPlateau(metrics, epoch)\n",
    "\n",
    "        self._last_lr = [group['lr'] for group in self.optimizer.param_groups]\n",
    "\n",
    "    def state_dict(self):\n",
    "        \"\"\"Returns the state of the scheduler as a :class:`dict`.\n",
    "\n",
    "        It contains an entry for every variable in self.__dict__ which\n",
    "        is not the optimizer.\n",
    "        \"\"\"\n",
    "        result = {key: value for key, value in self.__dict__.items() if key != 'optimizer' or key != \"after_scheduler\"}\n",
    "        if self.after_scheduler:\n",
    "            result.update({\"after_scheduler\": self.after_scheduler.state_dict()})\n",
    "        return result\n",
    "\n",
    "    def load_state_dict(self, state_dict):\n",
    "        after_scheduler_state = state_dict.pop(\"after_scheduler\", None)\n",
    "        self.__dict__.update(state_dict)\n",
    "        if after_scheduler_state:\n",
    "            self.after_scheduler.load_state_dict(after_scheduler_state)\n",
    "\n",
    "\n",
    "from sklearn.metrics import roc_auc_score, roc_curve\n",
    "import numpy as np\n",
    "\n",
    "def buildROC(labels, score, targetEff=[0.3,0.5]):\n",
    "    r''' ROC curve is a plot of the true positive rate (Sensitivity) in the function of the false positive rate\n",
    "    (100-Specificity) for different cut-off points of a parameter. Each point on the ROC curve represents a\n",
    "    sensitivity/specificity pair corresponding to a particular decision threshold. The Area Under the ROC\n",
    "    curve (AUC) is a measure of how well a parameter can distinguish between two diagnostic groups.\n",
    "    '''\n",
    "    if not isinstance(targetEff, list):\n",
    "        targetEff = [targetEff]\n",
    "    fpr, tpr, threshold = roc_curve(labels, score)\n",
    "    idx = [np.argmin(np.abs(tpr - Eff)) for Eff in targetEff]\n",
    "    eB, eS = fpr[idx], tpr[idx]\n",
    "    return fpr, tpr, threshold, eB, eS"
   ]
  },
  {
   "cell_type": "markdown",
   "metadata": {},
   "source": [
    "## Architecture"
   ]
  },
  {
   "cell_type": "code",
   "execution_count": 9,
   "metadata": {},
   "outputs": [],
   "source": [
    "import torch\n",
    "from torch import nn\n",
    "import numpy as np\n",
    "\n",
    "\"\"\"\n",
    "    Quantum Lie-Equivariant Group Block (QLieGEB).\n",
    "    \n",
    "        - Given the Lie generators found (i.e.: through LieGAN, oracle-preserving latent flow, or some other approach\n",
    "          that we develop further), once the metric tensor J is found via the equation:\n",
    "\n",
    "                          L.J + J.(L^T) = 0,\n",
    "                          \n",
    "          we just have to specify the metric to make the model symmetry-preserving to the corresponding Lie group. \n",
    "          In the cells below, I will show first how the model preserves symmetries (starting with the default Lorentz group),\n",
    "          and when we change J to some other metric (Euclidean, for example), Lorentz boosts break equivariance, while other\n",
    "          transformations preserve it (rotations, for the example shown in the cells below)\n",
    "\"\"\"\n",
    "class QLieGEB(nn.Module):\n",
    "    def __init__(self, n_input, n_output, n_hidden, n_node_attr=0,\n",
    "                 dropout = 0., c_weight=1.0, last_layer=False, A=None, include_x=False, \n",
    "                 model_type='classical', nlayers_qnn = 4, device='cpu'):\n",
    "        \n",
    "        super(QLieGEB, self).__init__()\n",
    "        self.c_weight = c_weight\n",
    "        self.model_type = model_type\n",
    "        n_edge_attr = 2 if not include_x else 10 # dims for Minkowski norm & inner product\n",
    "        \n",
    "        self.device = device\n",
    "        \n",
    "        self.include_x = include_x\n",
    "\n",
    "        \"\"\"\n",
    "            phi_e: input size: n_qubits -> output size: n_qubits\n",
    "            n_hidden has to be equal to n_input (n_input * 2 + n_edge_attr),\n",
    "            but this is just considering that this is a simple working example.\n",
    "        \"\"\"\n",
    "\n",
    "        \n",
    "        self.n_hidden = n_input * 2 + n_edge_attr\n",
    "        \n",
    "        if model_type in ['phi_e', 'quantum']:\n",
    "\n",
    "            n_qubits=n_input * 2 + n_edge_attr\n",
    "\n",
    "            self.n_output_e = self.n_hidden\n",
    "            \n",
    "            encoding, circuit, decoding = create_quantum_net(n_qubits, \n",
    "                                                             nlayers_qnn)\n",
    "            q_circuit_e = QuantumModel([encoding, circuit], decoding)\n",
    "\n",
    "            self.phi_e = nn.Sequential(q_circuit_e,\n",
    "                                      nn.Linear(n_qubits, self.n_hidden),\n",
    "                                      nn.ReLU())\n",
    "            self.BatchNorm1d_e = nn.BatchNorm1d(self.n_hidden)\n",
    "        else:\n",
    "            self.phi_e = nn.Sequential(\n",
    "                        nn.Linear(n_input * 2 + n_edge_attr, self.n_hidden, bias=False),\n",
    "                        nn.BatchNorm1d(self.n_hidden),\n",
    "                        nn.ReLU(),\n",
    "                        nn.Linear(self.n_hidden, self.n_hidden),\n",
    "                        nn.ReLU()).float()\n",
    "            \n",
    "\n",
    "        if model_type in ['phi_h', 'quantum']:\n",
    "            \n",
    "            n_qubits=self.n_hidden\n",
    "            \n",
    "            self.n_output_h = n_output\n",
    "            \n",
    "            encoding, circuit, decoding = create_quantum_net(n_qubits, \n",
    "                                                             nlayers_qnn)\n",
    "            q_circuit_h = QuantumModel([encoding, circuit], decoding)\n",
    "\n",
    "            self.phi_h = nn.Sequential(nn.Linear(self.n_hidden + n_input + n_node_attr, self.n_hidden, bias=False),\n",
    "                                       # nn.BatchNorm1d(n_hidden),\n",
    "                                       nn.ReLU(),\n",
    "                                       q_circuit_h,\n",
    "                                       nn.Linear(n_qubits, n_output))\n",
    "\n",
    "            \n",
    "            self.BatchNorm1d_h = nn.BatchNorm1d(4)\n",
    "            \n",
    "        else:\n",
    "            self.phi_h = nn.Sequential(\n",
    "                nn.Linear(self.n_hidden + n_input + n_node_attr, self.n_hidden),\n",
    "                nn.BatchNorm1d(self.n_hidden),\n",
    "                nn.ReLU(),\n",
    "                nn.Linear(self.n_hidden, n_output))\n",
    "\n",
    "        \n",
    "\n",
    "        if model_type in ['phi_x', 'quantum']:\n",
    "            down_projection = nn.Linear(self.n_hidden, 1, bias=False)\n",
    "            torch.nn.init.xavier_uniform_(down_projection.weight, gain=0.001)\n",
    "\n",
    "            n_qubits=self.n_hidden\n",
    "            encoding, circuit, decoding = create_quantum_net(n_qubits, \n",
    "                                                             nlayers_qnn)\n",
    "            q_circuit_x = QuantumModel([encoding, circuit], decoding)\n",
    "\n",
    "            self.phi_x = nn.Sequential(q_circuit_x,\n",
    "                                       down_projection)\n",
    "            #down_projection is removed for now since we currently only\n",
    "            # measure one observable at a time.\n",
    "                        \n",
    "        else:\n",
    "            layer = nn.Linear(self.n_hidden, 1, bias=False)\n",
    "            torch.nn.init.xavier_uniform_(layer.weight, gain=0.001)\n",
    "            self.phi_x = nn.Sequential(\n",
    "                nn.Linear(self.n_hidden, self.n_hidden),\n",
    "                nn.ReLU(),\n",
    "                layer)\n",
    "\n",
    "        \n",
    "        if model_type in ['phi_m', 'quantum']:\n",
    "\n",
    "            n_qubits=1\n",
    "            encoding, circuit, decoding = create_quantum_net(n_qubits, \n",
    "                                                             nlayers_qnn,)\n",
    "            q_circuit_m = QuantumModel([encoding, circuit], decoding)\n",
    "\n",
    "            self.phi_m = nn.Sequential(nn.Linear(self.n_hidden, 1),\n",
    "                                       nn.ReLU(),\n",
    "                                       q_circuit_m)\n",
    "        else:\n",
    "            self.phi_m = nn.Sequential(\n",
    "                nn.Linear(self.n_hidden, 1),\n",
    "                nn.Sigmoid())    \n",
    "\n",
    "        \n",
    "        self.last_layer = last_layer\n",
    "        if last_layer:\n",
    "            del self.phi_x\n",
    "\n",
    "        self.A = A\n",
    "        self.norm_fn = normA_fn(A) if A is not None else normsq4\n",
    "        self.dot_fn = dotA_fn(A) if A is not None else dotsq4\n",
    "\n",
    "    def m_model(self, hi, hj, norms, dots):\n",
    "        out = torch.cat([hi, hj, norms, dots], dim=1)\n",
    "\n",
    "        if self.model_type in [\"phi_e\", \"quantum\"]:\n",
    "            out2 = torch.empty(0, self.n_output_e).to(self.device)\n",
    "            for x in out:\n",
    "                out2 = torch.cat((out2, self.phi_e(x).unsqueeze(0).to(self.device)) )\n",
    "    \n",
    "            out = self.BatchNorm1d_e(out2)\n",
    "        \n",
    "        w = self.phi_m(out)\n",
    "        out = out * w\n",
    "        return out\n",
    "\n",
    "    def m_model_extended(self, hi, hj, norms, dots, xi, xj):\n",
    "        out = torch.cat([hi, hj, norms, dots, xi, xj], dim=1)\n",
    "        out = self.phi_e(out).squeeze(0)\n",
    "        w = self.phi_m(out)\n",
    "        out = out * w\n",
    "        return out\n",
    "\n",
    "    def h_model(self, h, edges, m, node_attr):\n",
    "        i, j = edges\n",
    "        agg = unsorted_segment_sum(m, i, num_segments=h.size(0))\n",
    "        agg = torch.cat([h, agg, node_attr], dim=1)\n",
    "\n",
    "\n",
    "        if self.model_type in [\"phi_h\", \"quantum\"]:\n",
    "            out = torch.empty(0, self.n_output_h).to(self.device)\n",
    "            for x in agg:\n",
    "                out = torch.cat((out, self.phi_h(x).unsqueeze(0).to(self.device)) )\n",
    "            out = self.BatchNorm1d_h(out)\n",
    "            out = h + out\n",
    "        else:\n",
    "            out = h + self.phi_h(agg)\n",
    "            \n",
    "        return out\n",
    "\n",
    "    def x_model(self, x, edges, x_diff, m):\n",
    "        i, j = edges\n",
    "        \n",
    "        # trans = x_diff * out\n",
    "        trans = x_diff * self.phi_x(m)\n",
    "        # From https://github.com/vgsatorras/egnn\n",
    "        # This is never activated but just in case it explosed it may save the train\n",
    "        trans = torch.clamp(trans, min=-100, max=100)\n",
    "        agg = unsorted_segment_mean(trans, i, num_segments=x.size(0))\n",
    "        x = x + agg * self.c_weight\n",
    "        return x\n",
    "\n",
    "    def minkowski_feats(self, edges, x):\n",
    "        i, j = edges\n",
    "        x_diff = x[i] - x[j]\n",
    "        norms = self.norm_fn(x_diff).unsqueeze(1)\n",
    "        dots = self.dot_fn(x[i], x[j]).unsqueeze(1)\n",
    "        norms, dots = psi(norms), psi(dots)\n",
    "        return norms, dots, x_diff\n",
    "\n",
    "    def forward(self, h, x, edges, node_attr=None):\n",
    "        i, j = edges\n",
    "        norms, dots, x_diff = self.minkowski_feats(edges, x)\n",
    "\n",
    "        if self.include_x:\n",
    "            m = self.m_model_extended(h[i], h[j], norms, dots, x[i], x[j])\n",
    "        else:\n",
    "            m = self.m_model(h[i], h[j], norms, dots) # [B*N, hidden]\n",
    "        if not self.last_layer:\n",
    "            x = self.x_model(x, edges, x_diff, m)\n",
    "        h = self.h_model(h, edges, m, node_attr)\n",
    "        return h, x, m\n",
    "\n",
    "class LieEQGNN(nn.Module):\n",
    "    r''' Implementation of Lie-Equivariant Quantum Graph Neural Network (Lie-EQGNN).\n",
    "\n",
    "    Args:\n",
    "        - `n_scalar` (int): number of input scalars.\n",
    "        - `n_hidden` (int): dimension of latent space.\n",
    "        - `n_class`  (int): number of output classes.\n",
    "        - `n_layers` (int): number of QLieGEB layers.\n",
    "        - `c_weight` (float): weight c in the x_model.\n",
    "        - `dropout`  (float): dropout rate.\n",
    "    '''\n",
    "    def __init__(self, n_scalar, n_hidden, n_class = 2, n_layers = 6, c_weight = 1e-3, dropout = 0., A=None, include_x=False,\n",
    "                model_type='classical', nlayers_qnn = 4, device='cpu'):\n",
    "        \n",
    "        super(LieEQGNN, self).__init__()\n",
    "        self.n_hidden = n_hidden\n",
    "        self.n_layers = n_layers\n",
    "        self.embedding = nn.Linear(n_scalar, n_hidden)\n",
    "        self.QLieGEBs = nn.ModuleList([QLieGEB(self.n_hidden, self.n_hidden, self.n_hidden, \n",
    "                                    n_node_attr=n_scalar, dropout=dropout,\n",
    "                                    c_weight=c_weight, last_layer=(i==n_layers-1), A=A, include_x=include_x,\n",
    "                                    model_type=model_type, nlayers_qnn = nlayers_qnn, device=device)\n",
    "                                    for i in range(n_layers)])\n",
    "        \n",
    "        self.graph_dec = nn.Sequential(nn.Linear(self.n_hidden, self.n_hidden),\n",
    "                                       nn.ReLU(),\n",
    "                                       nn.Dropout(dropout),\n",
    "                                       nn.Linear(self.n_hidden, n_class)) # classification\n",
    "\n",
    "    def forward(self, scalars, x, edges, node_mask, edge_mask, n_nodes, show_embeddings=False):\n",
    "        h = self.embedding(scalars)\n",
    "\n",
    "        if show_embeddings:\n",
    "            print(\"Scalar embedding, h, before (first particle): \\n\", h[0].cpu().detach().numpy())\n",
    "    \n",
    "        for i in range(self.n_layers):\n",
    "            h, x, _ = self.QLieGEBs[i](h, x, edges, node_attr=scalars)\n",
    "\n",
    "        if show_embeddings:\n",
    "            print(\"Scalar embedding, h, after transformation (first particle): \\n\", h[0].cpu().detach().numpy())\n",
    "        \n",
    "        h = h * node_mask\n",
    "        h = h.view(-1, n_nodes, self.n_hidden)\n",
    "        h = torch.mean(h, dim=1)\n",
    "        pred = self.graph_dec(h)\n",
    "        return pred.squeeze(1)"
   ]
  },
  {
   "cell_type": "markdown",
   "metadata": {},
   "source": [
    "### Invariance-Equivariance analysis\n",
    "\n",
    "Let's start with a default prediction:"
   ]
  },
  {
   "cell_type": "code",
   "execution_count": 10,
   "metadata": {},
   "outputs": [],
   "source": [
    "label, p4s, nodes, atom_mask, edge_mask, edges = next(iter(dataloaders['test']))"
   ]
  },
  {
   "cell_type": "code",
   "execution_count": 11,
   "metadata": {},
   "outputs": [],
   "source": [
    "dtype = torch.float64\n",
    "device = 'cuda'\n",
    "\n",
    "batch_size, n_nodes, _ = p4s.to(device, dtype).size()\n",
    "atom_positions = p4s.view(batch_size * n_nodes, -1).to(device, dtype)\n",
    "atom_mask = atom_mask.view(batch_size * n_nodes, -1).to(device, dtype)\n",
    "edge_mask = edge_mask.reshape(batch_size * n_nodes * n_nodes, -1).to(device, dtype)\n",
    "nodes = nodes.view(batch_size * n_nodes, -1).to(device, dtype)\n",
    "edges = [a.to(device) for a in edges]\n",
    "label = label.to(device, dtype).long()"
   ]
  },
  {
   "cell_type": "code",
   "execution_count": 12,
   "metadata": {},
   "outputs": [
    {
     "name": "stderr",
     "output_type": "stream",
     "text": [
      "C:\\Users\\jogis\\anaconda3\\envs\\qml_qibo\\Lib\\site-packages\\torch\\nn\\modules\\module.py:1341: UserWarning: Casting complex values to real discards the imaginary part (Triggered internally at C:\\actions-runner\\_work\\pytorch\\pytorch\\pytorch\\aten\\src\\ATen\\native\\Copy.cpp:307.)\n",
      "  return t.to(\n"
     ]
    }
   ],
   "source": [
    "model = LieEQGNN(n_scalar = 1, n_hidden = 4, n_class = 2,\\\n",
    "                   dropout = 0.2, n_layers = 4,\\\n",
    "                   c_weight = 1e-3, model_type=\"phi_x\", \n",
    "                   nlayers_qnn = 3, device=device).to(device, dtype=torch.float64)"
   ]
  },
  {
   "cell_type": "code",
   "execution_count": 13,
   "metadata": {},
   "outputs": [
    {
     "name": "stdout",
     "output_type": "stream",
     "text": [
      "Scalar embedding, h, before (first particle): \n",
      " [-0.09754075 -0.29659274 -0.30916309 -0.91381201]\n",
      "Scalar embedding, h, after transformation (first particle): \n",
      " [0.53184544 0.06022103 0.80105872 0.03766983]\n"
     ]
    }
   ],
   "source": [
    "pred = model(scalars=nodes, x= atom_positions, edges=edges, node_mask=atom_mask,\n",
    "                     edge_mask=edge_mask, n_nodes=n_nodes, show_embeddings=True)"
   ]
  },
  {
   "cell_type": "markdown",
   "metadata": {},
   "source": [
    "## Invariance-Equivariance analysis \n",
    "\n",
    "* Does taking any random transformation in the four-momentum vectors (i.e.: multiplying by 0.1) preserve our particle's latent representation?"
   ]
  },
  {
   "cell_type": "code",
   "execution_count": 14,
   "metadata": {},
   "outputs": [
    {
     "name": "stdout",
     "output_type": "stream",
     "text": [
      "Scalar embedding, h, before (first particle): \n",
      " [-0.09754075 -0.29659274 -0.30916309 -0.91381201]\n",
      "Scalar embedding, h, after transformation (first particle): \n",
      " [0.50751093 0.00851223 0.77186386 0.09182914]\n"
     ]
    }
   ],
   "source": [
    "pred = model(scalars=nodes, x= 0.1 * atom_positions, edges=edges, node_mask=atom_mask,\n",
    "                     edge_mask=edge_mask, n_nodes=n_nodes, show_embeddings=True)"
   ]
  },
  {
   "cell_type": "markdown",
   "metadata": {},
   "source": [
    "* The logits have changed and we have broken the symmetry. Now, what about the Lorentz transformations?"
   ]
  },
  {
   "cell_type": "code",
   "execution_count": 15,
   "metadata": {},
   "outputs": [
    {
     "name": "stdout",
     "output_type": "stream",
     "text": [
      "Scalar embedding, h, before (first particle): \n",
      " [-0.09754075 -0.29659274 -0.30916309 -0.91381201]\n",
      "Scalar embedding, h, after transformation (first particle): \n",
      " [0.53184545 0.06022105 0.80105875 0.0376698 ]\n"
     ]
    }
   ],
   "source": [
    "pred = model(scalars=nodes, x= (torch.tensor(transformation_matrix(220000000)).to(device) @ atom_positions.to(device, dtype=torch.float64).T).to(device, dtype=torch.float32).T, edges=edges, node_mask=atom_mask,\n",
    "                     edge_mask=edge_mask, n_nodes=n_nodes, show_embeddings=True)"
   ]
  },
  {
   "cell_type": "markdown",
   "metadata": {},
   "source": [
    "#### The latent representation is preserved when applying a Lorentz boost to our jet. We are preserving the symmetries!"
   ]
  },
  {
   "cell_type": "markdown",
   "metadata": {},
   "source": [
    "## 5. Training\n",
    "\n",
    "Finally, let's train on some data!"
   ]
  },
  {
   "cell_type": "code",
   "execution_count": 16,
   "metadata": {
    "scrolled": true
   },
   "outputs": [],
   "source": [
    "import os\n",
    "import torch\n",
    "from torch import nn, optim\n",
    "import json, time\n",
    "import numpy as np\n",
    "# import torch.distributed as dist\n",
    "# from torch.nn.parallel import DistributedDataParallel\n",
    "from torch.optim.lr_scheduler import CosineAnnealingWarmRestarts\n",
    "\n",
    "from tqdm import tqdm\n",
    "\n",
    "def run(model, epoch, loader, partition, N_EPOCHS=None):\n",
    "    if partition == 'train':\n",
    "        model.train()\n",
    "    else:\n",
    "        model.eval()\n",
    "\n",
    "    res = {'time':0, 'correct':0, 'loss': 0, 'counter': 0, 'acc': 0,\n",
    "           'loss_arr':[], 'correct_arr':[],'label':[],'score':[]}\n",
    "\n",
    "    tik = time.time()\n",
    "    loader_length = len(loader)\n",
    "\n",
    "    for i, (label, p4s, nodes, atom_mask, edge_mask, edges) in tqdm(enumerate(loader)):\n",
    "        if partition == 'train':\n",
    "            optimizer.zero_grad()\n",
    "        \n",
    "        batch_size, n_nodes, _ = p4s.size()\n",
    "        atom_positions = p4s.view(batch_size * n_nodes, -1).to(device, dtype)\n",
    "        atom_mask = atom_mask.view(batch_size * n_nodes, -1).to(device)\n",
    "        edge_mask = edge_mask.reshape(batch_size * n_nodes * n_nodes, -1).to(device)\n",
    "        nodes = nodes.view(batch_size * n_nodes, -1).to(device,dtype)\n",
    "        edges = [a.to(device) for a in edges]\n",
    "        label = label.to(device, dtype).long()\n",
    "\n",
    "        pred = model(scalars=nodes, x=atom_positions, edges=edges, node_mask=atom_mask,\n",
    "                         edge_mask=edge_mask, n_nodes=n_nodes)\n",
    "        \n",
    "        predict = pred.max(1).indices\n",
    "        correct = torch.sum(predict == label).item()\n",
    "        loss = loss_fn(pred, label)\n",
    "        \n",
    "        if partition == 'train':\n",
    "            loss.backward()\n",
    "            optimizer.step()\n",
    "        elif partition == 'test':\n",
    "            # save labels and probilities for ROC / AUC\n",
    "            # print(\"Preds \", pred)\n",
    "            score = torch.nn.functional.softmax(pred, dim = -1)\n",
    "            # print(\"Score test \", score)\n",
    "            # raise\n",
    "            res['label'].append(label)\n",
    "            res['score'].append(score)\n",
    "\n",
    "        res['time'] = time.time() - tik\n",
    "        res['correct'] += correct\n",
    "        res['loss'] += loss.item() * batch_size\n",
    "        res['counter'] += batch_size\n",
    "        res['loss_arr'].append(loss.item())\n",
    "        res['correct_arr'].append(correct)\n",
    "\n",
    "        # if i != 0 and i % args.log_interval == 0:\n",
    "        \n",
    "    running_loss = sum(res['loss_arr'])/len(res['loss_arr'])\n",
    "    running_acc = sum(res['correct_arr'])/(len(res['correct_arr'])*batch_size)\n",
    "    avg_time = res['time']/res['counter'] * batch_size\n",
    "    tmp_counter = res['counter']\n",
    "    tmp_loss = res['loss'] / tmp_counter\n",
    "    tmp_acc = res['correct'] / tmp_counter\n",
    "\n",
    "    if N_EPOCHS:\n",
    "        print(\">> %s \\t Epoch %d/%d \\t Batch %d/%d \\t Loss %.4f \\t Running Acc %.3f \\t Total Acc %.3f \\t Avg Batch Time %.4f\" %\n",
    "             (partition, epoch + 1, N_EPOCHS, i, loader_length, running_loss, running_acc, tmp_acc, avg_time))\n",
    "    else:\n",
    "        print(\">> %s \\t Loss %.4f \\t Running Acc %.3f \\t Total Acc %.3f \\t Avg Batch Time %.4f\" %\n",
    "             (partition, running_loss, running_acc, tmp_acc, avg_time))\n",
    "        \n",
    "    torch.cuda.empty_cache()\n",
    "    # ---------- reduce -----------\n",
    "    if partition == 'test':\n",
    "        res['label'] = torch.cat(res['label']).unsqueeze(-1)\n",
    "        res['score'] = torch.cat(res['score'])\n",
    "        res['score'] = torch.cat((res['label'],res['score']),dim=-1)\n",
    "    res['counter'] = res['counter']\n",
    "    res['loss'] = res['loss'] / res['counter']\n",
    "    res['acc'] = res['correct'] / res['counter']\n",
    "    return res\n",
    "\n",
    "def train(model, res, N_EPOCHS, model_path, log_path):\n",
    "    ### training and validation\n",
    "    for epoch in range(N_EPOCHS):\n",
    "        train_res = run(model, epoch, dataloaders['train'], partition='train', N_EPOCHS = N_EPOCHS)\n",
    "        print(\"Time: train: %.2f \\t Train loss %.4f \\t Train acc: %.4f\" % (train_res['time'],train_res['loss'],train_res['acc']))\n",
    "        # if epoch % args.val_interval == 0:\n",
    "            \n",
    "        # if (args.local_rank == 0):\n",
    "        torch.save(model.state_dict(), os.path.join(model_path, \"checkpoint-epoch-{}.pt\".format(epoch)) )\n",
    "        with torch.no_grad():\n",
    "            val_res = run(model, epoch, dataloaders['val'], partition='val')\n",
    "            \n",
    "        # if (args.local_rank == 0): # only master process save\n",
    "        res['lr'].append(optimizer.param_groups[0]['lr'])\n",
    "        res['train_time'].append(train_res['time'])\n",
    "        res['val_time'].append(val_res['time'])\n",
    "        res['train_loss'].append(train_res['loss'])\n",
    "        res['train_acc'].append(train_res['acc'])\n",
    "        res['val_loss'].append(val_res['loss'])\n",
    "        res['val_acc'].append(val_res['acc'])\n",
    "        res['epochs'].append(epoch)\n",
    "\n",
    "        ## save best model\n",
    "        if val_res['acc'] > res['best_val']:\n",
    "            print(\"New best validation model, saving...\")\n",
    "            torch.save(model.state_dict(), os.path.join(model_path,\"best-val-model.pt\"))\n",
    "            res['best_val'] = val_res['acc']\n",
    "            res['best_epoch'] = epoch\n",
    "\n",
    "        print(\"Epoch %d/%d finished.\" % (epoch, N_EPOCHS))\n",
    "        print(\"Train time: %.2f \\t Val time %.2f\" % (train_res['time'], val_res['time']))\n",
    "        print(\"Train loss %.4f \\t Train acc: %.4f\" % (train_res['loss'], train_res['acc']))\n",
    "        print(\"Val loss: %.4f \\t Val acc: %.4f\" % (val_res['loss'], val_res['acc']))\n",
    "        print(\"Best val acc: %.4f at epoch %d.\" % (res['best_val'],  res['best_epoch']))\n",
    "\n",
    "        json_object = json.dumps(res, indent=4)\n",
    "        with open(os.path.join(log_path, \"train-result-epoch{}.json\".format(epoch)), \"w\") as outfile:\n",
    "            outfile.write(json_object)\n",
    "\n",
    "        ## adjust learning rate\n",
    "        if (epoch < 31):\n",
    "            lr_scheduler.step(metrics=val_res['acc'])\n",
    "        else:\n",
    "            for g in optimizer.param_groups:\n",
    "                g['lr'] = g['lr']*0.5\n",
    "\n",
    "\n",
    "def test(model, res, model_path, log_path):\n",
    "    ### test on best model\n",
    "    best_model = torch.load(os.path.join(model_path, \"best-val-model.pt\"), map_location=device)\n",
    "    model.load_state_dict(best_model)\n",
    "    with torch.no_grad():\n",
    "        test_res = run(model, 0, dataloaders['test'], partition='test')\n",
    "\n",
    "    print(\"Final \", test_res['score'])\n",
    "    pred = test_res['score'].cpu()\n",
    "\n",
    "    np.save(os.path.join(log_path, \"score.npy\"), pred)\n",
    "    fpr, tpr, thres, eB, eS  = buildROC(pred[...,0], pred[...,2])\n",
    "    auc = roc_auc_score(pred[...,0], pred[...,2])\n",
    "\n",
    "    metric = {'test_loss': test_res['loss'], 'test_acc': test_res['acc'],\n",
    "              'test_auc': auc, 'test_1/eB_0.3':1./eB[0],'test_1/eB_0.5':1./eB[1]}\n",
    "    res.update(metric)\n",
    "    print(\"Test: Loss %.4f \\t Acc %.4f \\t AUC: %.4f \\t 1/eB 0.3: %.4f \\t 1/eB 0.5: %.4f\"\\\n",
    "           % (test_res['loss'], test_res['acc'], auc, 1./eB[0], 1./eB[1]))\n",
    "    json_object = json.dumps(res, indent=4)\n",
    "    with open(os.path.join(log_path, \"test-result.json\"), \"w\") as outfile:\n",
    "        outfile.write(json_object)"
   ]
  },
  {
   "cell_type": "code",
   "execution_count": 17,
   "metadata": {},
   "outputs": [
    {
     "name": "stdout",
     "output_type": "stream",
     "text": [
      "Model Size: 503\n",
      " train samples: 10000\n",
      " val samples: 1250\n",
      " test samples: 1250\n",
      "Training...\n"
     ]
    },
    {
     "name": "stderr",
     "output_type": "stream",
     "text": [
      "625it [00:10, 60.01it/s] \n"
     ]
    },
    {
     "name": "stdout",
     "output_type": "stream",
     "text": [
      ">> train \t Epoch 1/60 \t Batch 624/625 \t Loss 0.7543 \t Running Acc 0.504 \t Total Acc 0.504 \t Avg Batch Time 0.0167\n",
      "Time: train: 10.42 \t Train loss 0.7543 \t Train acc: 0.5038\n"
     ]
    },
    {
     "name": "stderr",
     "output_type": "stream",
     "text": [
      "79it [00:00, 91.41it/s]\n"
     ]
    },
    {
     "name": "stdout",
     "output_type": "stream",
     "text": [
      ">> val \t Loss 0.7386 \t Running Acc 3.975 \t Total Acc 0.502 \t Avg Batch Time 0.0014\n",
      "New best validation model, saving...\n",
      "Epoch 0/60 finished.\n",
      "Train time: 10.42 \t Val time 0.87\n",
      "Train loss 0.7543 \t Train acc: 0.5038\n",
      "Val loss: 0.7386 \t Val acc: 0.5024\n",
      "Best val acc: 0.5024 at epoch 0.\n"
     ]
    },
    {
     "name": "stderr",
     "output_type": "stream",
     "text": [
      "625it [00:06, 93.08it/s] \n"
     ]
    },
    {
     "name": "stdout",
     "output_type": "stream",
     "text": [
      ">> train \t Epoch 2/60 \t Batch 624/625 \t Loss 0.6971 \t Running Acc 0.542 \t Total Acc 0.542 \t Avg Batch Time 0.0107\n",
      "Time: train: 6.72 \t Train loss 0.6971 \t Train acc: 0.5424\n"
     ]
    },
    {
     "name": "stderr",
     "output_type": "stream",
     "text": [
      "79it [00:00, 154.33it/s]\n"
     ]
    },
    {
     "name": "stdout",
     "output_type": "stream",
     "text": [
      ">> val \t Loss 0.6740 \t Running Acc 4.722 \t Total Acc 0.597 \t Avg Batch Time 0.0008\n",
      "New best validation model, saving...\n",
      "Epoch 1/60 finished.\n",
      "Train time: 6.72 \t Val time 0.51\n",
      "Train loss 0.6971 \t Train acc: 0.5424\n",
      "Val loss: 0.6715 \t Val acc: 0.5968\n",
      "Best val acc: 0.5968 at epoch 1.\n"
     ]
    },
    {
     "name": "stderr",
     "output_type": "stream",
     "text": [
      "625it [00:06, 94.29it/s] \n"
     ]
    },
    {
     "name": "stdout",
     "output_type": "stream",
     "text": [
      ">> train \t Epoch 3/60 \t Batch 624/625 \t Loss 0.6669 \t Running Acc 0.594 \t Total Acc 0.594 \t Avg Batch Time 0.0106\n",
      "Time: train: 6.63 \t Train loss 0.6669 \t Train acc: 0.5943\n"
     ]
    },
    {
     "name": "stderr",
     "output_type": "stream",
     "text": [
      "79it [00:00, 152.28it/s]\n"
     ]
    },
    {
     "name": "stdout",
     "output_type": "stream",
     "text": [
      ">> val \t Loss 0.6537 \t Running Acc 4.810 \t Total Acc 0.608 \t Avg Batch Time 0.0008\n",
      "New best validation model, saving...\n",
      "Epoch 2/60 finished.\n",
      "Train time: 6.63 \t Val time 0.52\n",
      "Train loss 0.6669 \t Train acc: 0.5943\n",
      "Val loss: 0.6507 \t Val acc: 0.6080\n",
      "Best val acc: 0.6080 at epoch 2.\n"
     ]
    },
    {
     "name": "stderr",
     "output_type": "stream",
     "text": [
      "625it [00:09, 69.18it/s] \n"
     ]
    },
    {
     "name": "stdout",
     "output_type": "stream",
     "text": [
      ">> train \t Epoch 4/60 \t Batch 624/625 \t Loss 0.6617 \t Running Acc 0.600 \t Total Acc 0.600 \t Avg Batch Time 0.0145\n",
      "Time: train: 9.04 \t Train loss 0.6617 \t Train acc: 0.6001\n"
     ]
    },
    {
     "name": "stderr",
     "output_type": "stream",
     "text": [
      "79it [00:01, 69.08it/s]\n"
     ]
    },
    {
     "name": "stdout",
     "output_type": "stream",
     "text": [
      ">> val \t Loss 0.6471 \t Running Acc 4.918 \t Total Acc 0.622 \t Avg Batch Time 0.0018\n",
      "New best validation model, saving...\n",
      "Epoch 3/60 finished.\n",
      "Train time: 9.04 \t Val time 1.15\n",
      "Train loss 0.6617 \t Train acc: 0.6001\n",
      "Val loss: 0.6445 \t Val acc: 0.6216\n",
      "Best val acc: 0.6216 at epoch 3.\n"
     ]
    },
    {
     "name": "stderr",
     "output_type": "stream",
     "text": [
      "625it [00:09, 63.15it/s]\n"
     ]
    },
    {
     "name": "stdout",
     "output_type": "stream",
     "text": [
      ">> train \t Epoch 5/60 \t Batch 624/625 \t Loss 0.6600 \t Running Acc 0.606 \t Total Acc 0.606 \t Avg Batch Time 0.0158\n",
      "Time: train: 9.90 \t Train loss 0.6600 \t Train acc: 0.6057\n"
     ]
    },
    {
     "name": "stderr",
     "output_type": "stream",
     "text": [
      "79it [00:00, 121.30it/s]\n"
     ]
    },
    {
     "name": "stdout",
     "output_type": "stream",
     "text": [
      ">> val \t Loss 0.6476 \t Running Acc 4.905 \t Total Acc 0.620 \t Avg Batch Time 0.0010\n",
      "Epoch 4/60 finished.\n",
      "Train time: 9.90 \t Val time 0.65\n",
      "Train loss 0.6600 \t Train acc: 0.6057\n",
      "Val loss: 0.6447 \t Val acc: 0.6200\n",
      "Best val acc: 0.6216 at epoch 3.\n"
     ]
    },
    {
     "name": "stderr",
     "output_type": "stream",
     "text": [
      "625it [00:12, 51.99it/s]\n"
     ]
    },
    {
     "name": "stdout",
     "output_type": "stream",
     "text": [
      ">> train \t Epoch 6/60 \t Batch 624/625 \t Loss 0.6590 \t Running Acc 0.604 \t Total Acc 0.604 \t Avg Batch Time 0.0192\n",
      "Time: train: 12.02 \t Train loss 0.6590 \t Train acc: 0.6040\n"
     ]
    },
    {
     "name": "stderr",
     "output_type": "stream",
     "text": [
      "79it [00:00, 88.17it/s]\n"
     ]
    },
    {
     "name": "stdout",
     "output_type": "stream",
     "text": [
      ">> val \t Loss 0.6461 \t Running Acc 4.962 \t Total Acc 0.627 \t Avg Batch Time 0.0014\n",
      "New best validation model, saving...\n",
      "Epoch 5/60 finished.\n",
      "Train time: 12.02 \t Val time 0.90\n",
      "Train loss 0.6590 \t Train acc: 0.6040\n",
      "Val loss: 0.6434 \t Val acc: 0.6272\n",
      "Best val acc: 0.6272 at epoch 5.\n"
     ]
    },
    {
     "name": "stderr",
     "output_type": "stream",
     "text": [
      "625it [00:10, 60.43it/s]\n"
     ]
    },
    {
     "name": "stdout",
     "output_type": "stream",
     "text": [
      ">> train \t Epoch 7/60 \t Batch 624/625 \t Loss 0.6549 \t Running Acc 0.612 \t Total Acc 0.612 \t Avg Batch Time 0.0166\n",
      "Time: train: 10.35 \t Train loss 0.6549 \t Train acc: 0.6119\n"
     ]
    },
    {
     "name": "stderr",
     "output_type": "stream",
     "text": [
      "79it [00:00, 92.80it/s]\n"
     ]
    },
    {
     "name": "stdout",
     "output_type": "stream",
     "text": [
      ">> val \t Loss 0.6431 \t Running Acc 5.006 \t Total Acc 0.633 \t Avg Batch Time 0.0014\n",
      "New best validation model, saving...\n",
      "Epoch 6/60 finished.\n",
      "Train time: 10.35 \t Val time 0.86\n",
      "Train loss 0.6549 \t Train acc: 0.6119\n",
      "Val loss: 0.6403 \t Val acc: 0.6328\n",
      "Best val acc: 0.6328 at epoch 6.\n"
     ]
    },
    {
     "name": "stderr",
     "output_type": "stream",
     "text": [
      "625it [00:11, 54.28it/s]\n"
     ]
    },
    {
     "name": "stdout",
     "output_type": "stream",
     "text": [
      ">> train \t Epoch 8/60 \t Batch 624/625 \t Loss 0.6544 \t Running Acc 0.614 \t Total Acc 0.614 \t Avg Batch Time 0.0184\n",
      "Time: train: 11.52 \t Train loss 0.6544 \t Train acc: 0.6135\n"
     ]
    },
    {
     "name": "stderr",
     "output_type": "stream",
     "text": [
      "79it [00:00, 115.59it/s]\n"
     ]
    },
    {
     "name": "stdout",
     "output_type": "stream",
     "text": [
      ">> val \t Loss 0.6420 \t Running Acc 4.975 \t Total Acc 0.629 \t Avg Batch Time 0.0011\n",
      "Epoch 7/60 finished.\n",
      "Train time: 11.52 \t Val time 0.69\n",
      "Train loss 0.6544 \t Train acc: 0.6135\n",
      "Val loss: 0.6392 \t Val acc: 0.6288\n",
      "Best val acc: 0.6328 at epoch 6.\n"
     ]
    },
    {
     "name": "stderr",
     "output_type": "stream",
     "text": [
      "625it [00:11, 55.30it/s]\n"
     ]
    },
    {
     "name": "stdout",
     "output_type": "stream",
     "text": [
      ">> train \t Epoch 9/60 \t Batch 624/625 \t Loss 0.6570 \t Running Acc 0.608 \t Total Acc 0.608 \t Avg Batch Time 0.0181\n",
      "Time: train: 11.31 \t Train loss 0.6570 \t Train acc: 0.6075\n"
     ]
    },
    {
     "name": "stderr",
     "output_type": "stream",
     "text": [
      "79it [00:01, 78.46it/s]\n"
     ]
    },
    {
     "name": "stdout",
     "output_type": "stream",
     "text": [
      ">> val \t Loss 0.6449 \t Running Acc 5.000 \t Total Acc 0.632 \t Avg Batch Time 0.0016\n",
      "Epoch 8/60 finished.\n",
      "Train time: 11.31 \t Val time 1.01\n",
      "Train loss 0.6570 \t Train acc: 0.6075\n",
      "Val loss: 0.6419 \t Val acc: 0.6320\n",
      "Best val acc: 0.6328 at epoch 6.\n"
     ]
    },
    {
     "name": "stderr",
     "output_type": "stream",
     "text": [
      "625it [00:10, 57.44it/s] \n"
     ]
    },
    {
     "name": "stdout",
     "output_type": "stream",
     "text": [
      ">> train \t Epoch 10/60 \t Batch 624/625 \t Loss 0.6548 \t Running Acc 0.613 \t Total Acc 0.613 \t Avg Batch Time 0.0174\n",
      "Time: train: 10.89 \t Train loss 0.6548 \t Train acc: 0.6130\n"
     ]
    },
    {
     "name": "stderr",
     "output_type": "stream",
     "text": [
      "79it [00:00, 198.09it/s]\n"
     ]
    },
    {
     "name": "stdout",
     "output_type": "stream",
     "text": [
      ">> val \t Loss 0.6430 \t Running Acc 5.051 \t Total Acc 0.638 \t Avg Batch Time 0.0006\n",
      "New best validation model, saving...\n",
      "Epoch 9/60 finished.\n",
      "Train time: 10.89 \t Val time 0.40\n",
      "Train loss 0.6548 \t Train acc: 0.6130\n",
      "Val loss: 0.6402 \t Val acc: 0.6384\n",
      "Best val acc: 0.6384 at epoch 9.\n"
     ]
    },
    {
     "name": "stderr",
     "output_type": "stream",
     "text": [
      "625it [00:06, 102.52it/s]\n"
     ]
    },
    {
     "name": "stdout",
     "output_type": "stream",
     "text": [
      ">> train \t Epoch 11/60 \t Batch 624/625 \t Loss 0.6569 \t Running Acc 0.609 \t Total Acc 0.609 \t Avg Batch Time 0.0098\n",
      "Time: train: 6.10 \t Train loss 0.6569 \t Train acc: 0.6091\n"
     ]
    },
    {
     "name": "stderr",
     "output_type": "stream",
     "text": [
      "79it [00:00, 131.68it/s]\n"
     ]
    },
    {
     "name": "stdout",
     "output_type": "stream",
     "text": [
      ">> val \t Loss 0.6420 \t Running Acc 4.987 \t Total Acc 0.630 \t Avg Batch Time 0.0010\n",
      "Epoch 10/60 finished.\n",
      "Train time: 6.10 \t Val time 0.60\n",
      "Train loss 0.6569 \t Train acc: 0.6091\n",
      "Val loss: 0.6387 \t Val acc: 0.6304\n",
      "Best val acc: 0.6384 at epoch 9.\n"
     ]
    },
    {
     "name": "stderr",
     "output_type": "stream",
     "text": [
      "625it [00:07, 84.73it/s] \n"
     ]
    },
    {
     "name": "stdout",
     "output_type": "stream",
     "text": [
      ">> train \t Epoch 12/60 \t Batch 624/625 \t Loss 0.6543 \t Running Acc 0.614 \t Total Acc 0.614 \t Avg Batch Time 0.0118\n",
      "Time: train: 7.37 \t Train loss 0.6543 \t Train acc: 0.6140\n"
     ]
    },
    {
     "name": "stderr",
     "output_type": "stream",
     "text": [
      "79it [00:01, 73.36it/s]\n"
     ]
    },
    {
     "name": "stdout",
     "output_type": "stream",
     "text": [
      ">> val \t Loss 0.6395 \t Running Acc 5.076 \t Total Acc 0.642 \t Avg Batch Time 0.0017\n",
      "New best validation model, saving...\n",
      "Epoch 11/60 finished.\n",
      "Train time: 7.37 \t Val time 1.08\n",
      "Train loss 0.6543 \t Train acc: 0.6140\n",
      "Val loss: 0.6362 \t Val acc: 0.6416\n",
      "Best val acc: 0.6416 at epoch 11.\n"
     ]
    },
    {
     "name": "stderr",
     "output_type": "stream",
     "text": [
      "625it [00:09, 64.08it/s]\n"
     ]
    },
    {
     "name": "stdout",
     "output_type": "stream",
     "text": [
      ">> train \t Epoch 13/60 \t Batch 624/625 \t Loss 0.6526 \t Running Acc 0.619 \t Total Acc 0.619 \t Avg Batch Time 0.0156\n",
      "Time: train: 9.76 \t Train loss 0.6526 \t Train acc: 0.6194\n"
     ]
    },
    {
     "name": "stderr",
     "output_type": "stream",
     "text": [
      "79it [00:01, 59.59it/s] \n"
     ]
    },
    {
     "name": "stdout",
     "output_type": "stream",
     "text": [
      ">> val \t Loss 0.6376 \t Running Acc 5.095 \t Total Acc 0.644 \t Avg Batch Time 0.0021\n",
      "New best validation model, saving...\n",
      "Epoch 12/60 finished.\n",
      "Train time: 9.76 \t Val time 1.33\n",
      "Train loss 0.6526 \t Train acc: 0.6194\n",
      "Val loss: 0.6346 \t Val acc: 0.6440\n",
      "Best val acc: 0.6440 at epoch 12.\n"
     ]
    },
    {
     "name": "stderr",
     "output_type": "stream",
     "text": [
      "625it [00:08, 73.94it/s]\n"
     ]
    },
    {
     "name": "stdout",
     "output_type": "stream",
     "text": [
      ">> train \t Epoch 14/60 \t Batch 624/625 \t Loss 0.6546 \t Running Acc 0.615 \t Total Acc 0.615 \t Avg Batch Time 0.0135\n",
      "Time: train: 8.46 \t Train loss 0.6546 \t Train acc: 0.6154\n"
     ]
    },
    {
     "name": "stderr",
     "output_type": "stream",
     "text": [
      "79it [00:00, 138.75it/s]\n"
     ]
    },
    {
     "name": "stdout",
     "output_type": "stream",
     "text": [
      ">> val \t Loss 0.6359 \t Running Acc 5.127 \t Total Acc 0.648 \t Avg Batch Time 0.0009\n",
      "New best validation model, saving...\n",
      "Epoch 13/60 finished.\n",
      "Train time: 8.46 \t Val time 0.57\n",
      "Train loss 0.6546 \t Train acc: 0.6154\n",
      "Val loss: 0.6329 \t Val acc: 0.6480\n",
      "Best val acc: 0.6480 at epoch 13.\n"
     ]
    },
    {
     "name": "stderr",
     "output_type": "stream",
     "text": [
      "625it [00:10, 62.20it/s]\n"
     ]
    },
    {
     "name": "stdout",
     "output_type": "stream",
     "text": [
      ">> train \t Epoch 15/60 \t Batch 624/625 \t Loss 0.6511 \t Running Acc 0.620 \t Total Acc 0.620 \t Avg Batch Time 0.0161\n",
      "Time: train: 10.05 \t Train loss 0.6511 \t Train acc: 0.6204\n"
     ]
    },
    {
     "name": "stderr",
     "output_type": "stream",
     "text": [
      "79it [00:00, 165.34it/s]\n"
     ]
    },
    {
     "name": "stdout",
     "output_type": "stream",
     "text": [
      ">> val \t Loss 0.6349 \t Running Acc 5.165 \t Total Acc 0.653 \t Avg Batch Time 0.0008\n",
      "New best validation model, saving...\n",
      "Epoch 14/60 finished.\n",
      "Train time: 10.05 \t Val time 0.48\n",
      "Train loss 0.6511 \t Train acc: 0.6204\n",
      "Val loss: 0.6320 \t Val acc: 0.6528\n",
      "Best val acc: 0.6528 at epoch 14.\n"
     ]
    },
    {
     "name": "stderr",
     "output_type": "stream",
     "text": [
      "625it [00:06, 98.28it/s] \n"
     ]
    },
    {
     "name": "stdout",
     "output_type": "stream",
     "text": [
      ">> train \t Epoch 16/60 \t Batch 624/625 \t Loss 0.6494 \t Running Acc 0.619 \t Total Acc 0.619 \t Avg Batch Time 0.0102\n",
      "Time: train: 6.36 \t Train loss 0.6494 \t Train acc: 0.6191\n"
     ]
    },
    {
     "name": "stderr",
     "output_type": "stream",
     "text": [
      "79it [00:00, 112.81it/s]\n"
     ]
    },
    {
     "name": "stdout",
     "output_type": "stream",
     "text": [
      ">> val \t Loss 0.6344 \t Running Acc 5.120 \t Total Acc 0.647 \t Avg Batch Time 0.0011\n",
      "Epoch 15/60 finished.\n",
      "Train time: 6.36 \t Val time 0.70\n",
      "Train loss 0.6494 \t Train acc: 0.6191\n",
      "Val loss: 0.6316 \t Val acc: 0.6472\n",
      "Best val acc: 0.6528 at epoch 14.\n"
     ]
    },
    {
     "name": "stderr",
     "output_type": "stream",
     "text": [
      "625it [00:09, 65.96it/s]\n"
     ]
    },
    {
     "name": "stdout",
     "output_type": "stream",
     "text": [
      ">> train \t Epoch 17/60 \t Batch 624/625 \t Loss 0.6509 \t Running Acc 0.623 \t Total Acc 0.623 \t Avg Batch Time 0.0152\n",
      "Time: train: 9.48 \t Train loss 0.6509 \t Train acc: 0.6233\n"
     ]
    },
    {
     "name": "stderr",
     "output_type": "stream",
     "text": [
      "79it [00:00, 104.81it/s]\n"
     ]
    },
    {
     "name": "stdout",
     "output_type": "stream",
     "text": [
      ">> val \t Loss 0.6357 \t Running Acc 5.082 \t Total Acc 0.642 \t Avg Batch Time 0.0012\n",
      "Epoch 16/60 finished.\n",
      "Train time: 9.48 \t Val time 0.76\n",
      "Train loss 0.6509 \t Train acc: 0.6233\n",
      "Val loss: 0.6324 \t Val acc: 0.6424\n",
      "Best val acc: 0.6528 at epoch 14.\n"
     ]
    },
    {
     "name": "stderr",
     "output_type": "stream",
     "text": [
      "625it [00:06, 96.57it/s] \n"
     ]
    },
    {
     "name": "stdout",
     "output_type": "stream",
     "text": [
      ">> train \t Epoch 18/60 \t Batch 624/625 \t Loss 0.6508 \t Running Acc 0.625 \t Total Acc 0.625 \t Avg Batch Time 0.0104\n",
      "Time: train: 6.48 \t Train loss 0.6508 \t Train acc: 0.6254\n"
     ]
    },
    {
     "name": "stderr",
     "output_type": "stream",
     "text": [
      "79it [00:00, 136.16it/s]\n"
     ]
    },
    {
     "name": "stdout",
     "output_type": "stream",
     "text": [
      ">> val \t Loss 0.6349 \t Running Acc 5.114 \t Total Acc 0.646 \t Avg Batch Time 0.0009\n",
      "Epoch 17/60 finished.\n",
      "Train time: 6.48 \t Val time 0.58\n",
      "Train loss 0.6508 \t Train acc: 0.6254\n",
      "Val loss: 0.6314 \t Val acc: 0.6464\n",
      "Best val acc: 0.6528 at epoch 14.\n"
     ]
    },
    {
     "name": "stderr",
     "output_type": "stream",
     "text": [
      "625it [00:07, 82.22it/s] \n"
     ]
    },
    {
     "name": "stdout",
     "output_type": "stream",
     "text": [
      ">> train \t Epoch 19/60 \t Batch 624/625 \t Loss 0.6478 \t Running Acc 0.629 \t Total Acc 0.629 \t Avg Batch Time 0.0122\n",
      "Time: train: 7.60 \t Train loss 0.6478 \t Train acc: 0.6291\n"
     ]
    },
    {
     "name": "stderr",
     "output_type": "stream",
     "text": [
      "79it [00:00, 189.51it/s]\n"
     ]
    },
    {
     "name": "stdout",
     "output_type": "stream",
     "text": [
      ">> val \t Loss 0.6312 \t Running Acc 5.152 \t Total Acc 0.651 \t Avg Batch Time 0.0007\n",
      "Epoch 18/60 finished.\n",
      "Train time: 7.60 \t Val time 0.42\n",
      "Train loss 0.6478 \t Train acc: 0.6291\n",
      "Val loss: 0.6278 \t Val acc: 0.6512\n",
      "Best val acc: 0.6528 at epoch 14.\n"
     ]
    },
    {
     "name": "stderr",
     "output_type": "stream",
     "text": [
      "625it [00:08, 71.65it/s] \n"
     ]
    },
    {
     "name": "stdout",
     "output_type": "stream",
     "text": [
      ">> train \t Epoch 20/60 \t Batch 624/625 \t Loss 0.6458 \t Running Acc 0.630 \t Total Acc 0.630 \t Avg Batch Time 0.0140\n",
      "Time: train: 8.72 \t Train loss 0.6458 \t Train acc: 0.6305\n"
     ]
    },
    {
     "name": "stderr",
     "output_type": "stream",
     "text": [
      "79it [00:01, 70.80it/s]\n"
     ]
    },
    {
     "name": "stdout",
     "output_type": "stream",
     "text": [
      ">> val \t Loss 0.6299 \t Running Acc 5.114 \t Total Acc 0.646 \t Avg Batch Time 0.0018\n",
      "Epoch 19/60 finished.\n",
      "Train time: 8.72 \t Val time 1.12\n",
      "Train loss 0.6458 \t Train acc: 0.6305\n",
      "Val loss: 0.6262 \t Val acc: 0.6464\n",
      "Best val acc: 0.6528 at epoch 14.\n"
     ]
    },
    {
     "name": "stderr",
     "output_type": "stream",
     "text": [
      "625it [00:08, 77.81it/s] \n"
     ]
    },
    {
     "name": "stdout",
     "output_type": "stream",
     "text": [
      ">> train \t Epoch 21/60 \t Batch 624/625 \t Loss 0.6461 \t Running Acc 0.632 \t Total Acc 0.632 \t Avg Batch Time 0.0129\n",
      "Time: train: 8.04 \t Train loss 0.6461 \t Train acc: 0.6324\n"
     ]
    },
    {
     "name": "stderr",
     "output_type": "stream",
     "text": [
      "79it [00:00, 177.03it/s]\n"
     ]
    },
    {
     "name": "stdout",
     "output_type": "stream",
     "text": [
      ">> val \t Loss 0.6272 \t Running Acc 5.171 \t Total Acc 0.654 \t Avg Batch Time 0.0007\n",
      "New best validation model, saving...\n",
      "Epoch 20/60 finished.\n",
      "Train time: 8.04 \t Val time 0.45\n",
      "Train loss 0.6461 \t Train acc: 0.6324\n",
      "Val loss: 0.6235 \t Val acc: 0.6536\n",
      "Best val acc: 0.6536 at epoch 20.\n"
     ]
    },
    {
     "name": "stderr",
     "output_type": "stream",
     "text": [
      "625it [00:05, 109.53it/s]\n"
     ]
    },
    {
     "name": "stdout",
     "output_type": "stream",
     "text": [
      ">> train \t Epoch 22/60 \t Batch 624/625 \t Loss 0.6438 \t Running Acc 0.633 \t Total Acc 0.633 \t Avg Batch Time 0.0091\n",
      "Time: train: 5.71 \t Train loss 0.6438 \t Train acc: 0.6332\n"
     ]
    },
    {
     "name": "stderr",
     "output_type": "stream",
     "text": [
      "79it [00:00, 186.18it/s]\n"
     ]
    },
    {
     "name": "stdout",
     "output_type": "stream",
     "text": [
      ">> val \t Loss 0.6251 \t Running Acc 5.241 \t Total Acc 0.662 \t Avg Batch Time 0.0007\n",
      "New best validation model, saving...\n",
      "Epoch 21/60 finished.\n",
      "Train time: 5.71 \t Val time 0.43\n",
      "Train loss 0.6438 \t Train acc: 0.6332\n",
      "Val loss: 0.6215 \t Val acc: 0.6624\n",
      "Best val acc: 0.6624 at epoch 21.\n"
     ]
    },
    {
     "name": "stderr",
     "output_type": "stream",
     "text": [
      "625it [00:10, 62.47it/s]\n"
     ]
    },
    {
     "name": "stdout",
     "output_type": "stream",
     "text": [
      ">> train \t Epoch 23/60 \t Batch 624/625 \t Loss 0.6420 \t Running Acc 0.630 \t Total Acc 0.630 \t Avg Batch Time 0.0160\n",
      "Time: train: 10.01 \t Train loss 0.6420 \t Train acc: 0.6304\n"
     ]
    },
    {
     "name": "stderr",
     "output_type": "stream",
     "text": [
      "79it [00:00, 143.58it/s]\n"
     ]
    },
    {
     "name": "stdout",
     "output_type": "stream",
     "text": [
      ">> val \t Loss 0.6211 \t Running Acc 5.241 \t Total Acc 0.662 \t Avg Batch Time 0.0009\n",
      "Epoch 22/60 finished.\n",
      "Train time: 10.01 \t Val time 0.55\n",
      "Train loss 0.6420 \t Train acc: 0.6304\n",
      "Val loss: 0.6174 \t Val acc: 0.6624\n",
      "Best val acc: 0.6624 at epoch 21.\n"
     ]
    },
    {
     "name": "stderr",
     "output_type": "stream",
     "text": [
      "625it [00:07, 86.09it/s] \n"
     ]
    },
    {
     "name": "stdout",
     "output_type": "stream",
     "text": [
      ">> train \t Epoch 24/60 \t Batch 624/625 \t Loss 0.6417 \t Running Acc 0.636 \t Total Acc 0.636 \t Avg Batch Time 0.0116\n",
      "Time: train: 7.26 \t Train loss 0.6417 \t Train acc: 0.6358\n"
     ]
    },
    {
     "name": "stderr",
     "output_type": "stream",
     "text": [
      "79it [00:00, 92.61it/s]\n"
     ]
    },
    {
     "name": "stdout",
     "output_type": "stream",
     "text": [
      ">> val \t Loss 0.6206 \t Running Acc 5.234 \t Total Acc 0.662 \t Avg Batch Time 0.0014\n",
      "Epoch 23/60 finished.\n",
      "Train time: 7.26 \t Val time 0.86\n",
      "Train loss 0.6417 \t Train acc: 0.6358\n",
      "Val loss: 0.6169 \t Val acc: 0.6616\n",
      "Best val acc: 0.6624 at epoch 21.\n"
     ]
    },
    {
     "name": "stderr",
     "output_type": "stream",
     "text": [
      "625it [00:07, 89.15it/s] \n"
     ]
    },
    {
     "name": "stdout",
     "output_type": "stream",
     "text": [
      ">> train \t Epoch 25/60 \t Batch 624/625 \t Loss 0.6429 \t Running Acc 0.633 \t Total Acc 0.633 \t Avg Batch Time 0.0112\n",
      "Time: train: 7.01 \t Train loss 0.6429 \t Train acc: 0.6330\n"
     ]
    },
    {
     "name": "stderr",
     "output_type": "stream",
     "text": [
      "79it [00:00, 193.89it/s]\n"
     ]
    },
    {
     "name": "stdout",
     "output_type": "stream",
     "text": [
      ">> val \t Loss 0.6196 \t Running Acc 5.285 \t Total Acc 0.668 \t Avg Batch Time 0.0007\n",
      "New best validation model, saving...\n",
      "Epoch 24/60 finished.\n",
      "Train time: 7.01 \t Val time 0.41\n",
      "Train loss 0.6429 \t Train acc: 0.6330\n",
      "Val loss: 0.6159 \t Val acc: 0.6680\n",
      "Best val acc: 0.6680 at epoch 24.\n"
     ]
    },
    {
     "name": "stderr",
     "output_type": "stream",
     "text": [
      "625it [00:06, 100.74it/s]\n"
     ]
    },
    {
     "name": "stdout",
     "output_type": "stream",
     "text": [
      ">> train \t Epoch 26/60 \t Batch 624/625 \t Loss 0.6376 \t Running Acc 0.636 \t Total Acc 0.636 \t Avg Batch Time 0.0099\n",
      "Time: train: 6.20 \t Train loss 0.6376 \t Train acc: 0.6361\n"
     ]
    },
    {
     "name": "stderr",
     "output_type": "stream",
     "text": [
      "79it [00:00, 155.95it/s]\n"
     ]
    },
    {
     "name": "stdout",
     "output_type": "stream",
     "text": [
      ">> val \t Loss 0.6175 \t Running Acc 5.329 \t Total Acc 0.674 \t Avg Batch Time 0.0008\n",
      "New best validation model, saving...\n",
      "Epoch 25/60 finished.\n",
      "Train time: 6.20 \t Val time 0.51\n",
      "Train loss 0.6376 \t Train acc: 0.6361\n",
      "Val loss: 0.6137 \t Val acc: 0.6736\n",
      "Best val acc: 0.6736 at epoch 25.\n"
     ]
    },
    {
     "name": "stderr",
     "output_type": "stream",
     "text": [
      "625it [00:06, 91.87it/s] \n"
     ]
    },
    {
     "name": "stdout",
     "output_type": "stream",
     "text": [
      ">> train \t Epoch 27/60 \t Batch 624/625 \t Loss 0.6392 \t Running Acc 0.636 \t Total Acc 0.636 \t Avg Batch Time 0.0109\n",
      "Time: train: 6.81 \t Train loss 0.6392 \t Train acc: 0.6360\n"
     ]
    },
    {
     "name": "stderr",
     "output_type": "stream",
     "text": [
      "79it [00:00, 195.56it/s]\n"
     ]
    },
    {
     "name": "stdout",
     "output_type": "stream",
     "text": [
      ">> val \t Loss 0.6171 \t Running Acc 5.304 \t Total Acc 0.670 \t Avg Batch Time 0.0007\n",
      "Epoch 26/60 finished.\n",
      "Train time: 6.81 \t Val time 0.41\n",
      "Train loss 0.6392 \t Train acc: 0.6360\n",
      "Val loss: 0.6133 \t Val acc: 0.6704\n",
      "Best val acc: 0.6736 at epoch 25.\n"
     ]
    },
    {
     "name": "stderr",
     "output_type": "stream",
     "text": [
      "625it [00:08, 73.64it/s]\n"
     ]
    },
    {
     "name": "stdout",
     "output_type": "stream",
     "text": [
      ">> train \t Epoch 28/60 \t Batch 624/625 \t Loss 0.6399 \t Running Acc 0.635 \t Total Acc 0.635 \t Avg Batch Time 0.0136\n",
      "Time: train: 8.49 \t Train loss 0.6399 \t Train acc: 0.6353\n"
     ]
    },
    {
     "name": "stderr",
     "output_type": "stream",
     "text": [
      "79it [00:00, 105.70it/s]\n"
     ]
    },
    {
     "name": "stdout",
     "output_type": "stream",
     "text": [
      ">> val \t Loss 0.6167 \t Running Acc 5.272 \t Total Acc 0.666 \t Avg Batch Time 0.0012\n",
      "Epoch 27/60 finished.\n",
      "Train time: 8.49 \t Val time 0.75\n",
      "Train loss 0.6399 \t Train acc: 0.6353\n",
      "Val loss: 0.6131 \t Val acc: 0.6664\n",
      "Best val acc: 0.6736 at epoch 25.\n"
     ]
    },
    {
     "name": "stderr",
     "output_type": "stream",
     "text": [
      "625it [00:06, 89.97it/s] \n"
     ]
    },
    {
     "name": "stdout",
     "output_type": "stream",
     "text": [
      ">> train \t Epoch 29/60 \t Batch 624/625 \t Loss 0.6397 \t Running Acc 0.636 \t Total Acc 0.636 \t Avg Batch Time 0.0111\n",
      "Time: train: 6.95 \t Train loss 0.6397 \t Train acc: 0.6359\n"
     ]
    },
    {
     "name": "stderr",
     "output_type": "stream",
     "text": [
      "79it [00:00, 187.22it/s]\n"
     ]
    },
    {
     "name": "stdout",
     "output_type": "stream",
     "text": [
      ">> val \t Loss 0.6162 \t Running Acc 5.285 \t Total Acc 0.668 \t Avg Batch Time 0.0007\n",
      "Epoch 28/60 finished.\n",
      "Train time: 6.95 \t Val time 0.42\n",
      "Train loss 0.6397 \t Train acc: 0.6359\n",
      "Val loss: 0.6124 \t Val acc: 0.6680\n",
      "Best val acc: 0.6736 at epoch 25.\n"
     ]
    },
    {
     "name": "stderr",
     "output_type": "stream",
     "text": [
      "625it [00:05, 105.96it/s]\n"
     ]
    },
    {
     "name": "stdout",
     "output_type": "stream",
     "text": [
      ">> train \t Epoch 30/60 \t Batch 624/625 \t Loss 0.6378 \t Running Acc 0.638 \t Total Acc 0.638 \t Avg Batch Time 0.0094\n",
      "Time: train: 5.90 \t Train loss 0.6378 \t Train acc: 0.6385\n"
     ]
    },
    {
     "name": "stderr",
     "output_type": "stream",
     "text": [
      "79it [00:00, 191.44it/s]\n"
     ]
    },
    {
     "name": "stdout",
     "output_type": "stream",
     "text": [
      ">> val \t Loss 0.6153 \t Running Acc 5.310 \t Total Acc 0.671 \t Avg Batch Time 0.0007\n",
      "Epoch 29/60 finished.\n",
      "Train time: 5.90 \t Val time 0.42\n",
      "Train loss 0.6378 \t Train acc: 0.6385\n",
      "Val loss: 0.6118 \t Val acc: 0.6712\n",
      "Best val acc: 0.6736 at epoch 25.\n"
     ]
    },
    {
     "name": "stderr",
     "output_type": "stream",
     "text": [
      "625it [00:06, 94.17it/s] \n"
     ]
    },
    {
     "name": "stdout",
     "output_type": "stream",
     "text": [
      ">> train \t Epoch 31/60 \t Batch 624/625 \t Loss 0.6383 \t Running Acc 0.638 \t Total Acc 0.638 \t Avg Batch Time 0.0106\n",
      "Time: train: 6.64 \t Train loss 0.6383 \t Train acc: 0.6377\n"
     ]
    },
    {
     "name": "stderr",
     "output_type": "stream",
     "text": [
      "79it [00:00, 170.31it/s]\n"
     ]
    },
    {
     "name": "stdout",
     "output_type": "stream",
     "text": [
      ">> val \t Loss 0.6152 \t Running Acc 5.323 \t Total Acc 0.673 \t Avg Batch Time 0.0007\n",
      "Epoch 30/60 finished.\n",
      "Train time: 6.64 \t Val time 0.47\n",
      "Train loss 0.6383 \t Train acc: 0.6377\n",
      "Val loss: 0.6116 \t Val acc: 0.6728\n",
      "Best val acc: 0.6736 at epoch 25.\n"
     ]
    },
    {
     "name": "stderr",
     "output_type": "stream",
     "text": [
      "625it [00:05, 108.48it/s]\n"
     ]
    },
    {
     "name": "stdout",
     "output_type": "stream",
     "text": [
      ">> train \t Epoch 32/60 \t Batch 624/625 \t Loss 0.6370 \t Running Acc 0.643 \t Total Acc 0.643 \t Avg Batch Time 0.0092\n",
      "Time: train: 5.76 \t Train loss 0.6370 \t Train acc: 0.6434\n"
     ]
    },
    {
     "name": "stderr",
     "output_type": "stream",
     "text": [
      "79it [00:00, 193.00it/s]\n"
     ]
    },
    {
     "name": "stdout",
     "output_type": "stream",
     "text": [
      ">> val \t Loss 0.6151 \t Running Acc 5.316 \t Total Acc 0.672 \t Avg Batch Time 0.0007\n",
      "Epoch 31/60 finished.\n",
      "Train time: 5.76 \t Val time 0.41\n",
      "Train loss 0.6370 \t Train acc: 0.6434\n",
      "Val loss: 0.6115 \t Val acc: 0.6720\n",
      "Best val acc: 0.6736 at epoch 25.\n"
     ]
    },
    {
     "name": "stderr",
     "output_type": "stream",
     "text": [
      "625it [00:06, 101.85it/s]\n"
     ]
    },
    {
     "name": "stdout",
     "output_type": "stream",
     "text": [
      ">> train \t Epoch 33/60 \t Batch 624/625 \t Loss 0.6369 \t Running Acc 0.639 \t Total Acc 0.639 \t Avg Batch Time 0.0098\n",
      "Time: train: 6.14 \t Train loss 0.6369 \t Train acc: 0.6395\n"
     ]
    },
    {
     "name": "stderr",
     "output_type": "stream",
     "text": [
      "79it [00:00, 136.85it/s]\n"
     ]
    },
    {
     "name": "stdout",
     "output_type": "stream",
     "text": [
      ">> val \t Loss 0.6151 \t Running Acc 5.316 \t Total Acc 0.672 \t Avg Batch Time 0.0009\n",
      "Epoch 32/60 finished.\n",
      "Train time: 6.14 \t Val time 0.58\n",
      "Train loss 0.6369 \t Train acc: 0.6395\n",
      "Val loss: 0.6115 \t Val acc: 0.6720\n",
      "Best val acc: 0.6736 at epoch 25.\n"
     ]
    },
    {
     "name": "stderr",
     "output_type": "stream",
     "text": [
      "625it [00:06, 96.10it/s] \n"
     ]
    },
    {
     "name": "stdout",
     "output_type": "stream",
     "text": [
      ">> train \t Epoch 34/60 \t Batch 624/625 \t Loss 0.6404 \t Running Acc 0.641 \t Total Acc 0.641 \t Avg Batch Time 0.0104\n",
      "Time: train: 6.51 \t Train loss 0.6404 \t Train acc: 0.6406\n"
     ]
    },
    {
     "name": "stderr",
     "output_type": "stream",
     "text": [
      "79it [00:00, 165.30it/s]\n"
     ]
    },
    {
     "name": "stdout",
     "output_type": "stream",
     "text": [
      ">> val \t Loss 0.6151 \t Running Acc 5.323 \t Total Acc 0.673 \t Avg Batch Time 0.0008\n",
      "Epoch 33/60 finished.\n",
      "Train time: 6.51 \t Val time 0.48\n",
      "Train loss 0.6404 \t Train acc: 0.6406\n",
      "Val loss: 0.6115 \t Val acc: 0.6728\n",
      "Best val acc: 0.6736 at epoch 25.\n"
     ]
    },
    {
     "name": "stderr",
     "output_type": "stream",
     "text": [
      "625it [00:11, 53.92it/s]\n"
     ]
    },
    {
     "name": "stdout",
     "output_type": "stream",
     "text": [
      ">> train \t Epoch 35/60 \t Batch 624/625 \t Loss 0.6388 \t Running Acc 0.643 \t Total Acc 0.643 \t Avg Batch Time 0.0185\n",
      "Time: train: 11.59 \t Train loss 0.6388 \t Train acc: 0.6428\n"
     ]
    },
    {
     "name": "stderr",
     "output_type": "stream",
     "text": [
      "79it [00:00, 112.36it/s]\n"
     ]
    },
    {
     "name": "stdout",
     "output_type": "stream",
     "text": [
      ">> val \t Loss 0.6151 \t Running Acc 5.323 \t Total Acc 0.673 \t Avg Batch Time 0.0011\n",
      "Epoch 34/60 finished.\n",
      "Train time: 11.59 \t Val time 0.71\n",
      "Train loss 0.6388 \t Train acc: 0.6428\n",
      "Val loss: 0.6115 \t Val acc: 0.6728\n",
      "Best val acc: 0.6736 at epoch 25.\n"
     ]
    },
    {
     "name": "stderr",
     "output_type": "stream",
     "text": [
      "625it [00:10, 62.35it/s] \n"
     ]
    },
    {
     "name": "stdout",
     "output_type": "stream",
     "text": [
      ">> train \t Epoch 36/60 \t Batch 624/625 \t Loss 0.6396 \t Running Acc 0.638 \t Total Acc 0.638 \t Avg Batch Time 0.0160\n",
      "Time: train: 10.03 \t Train loss 0.6396 \t Train acc: 0.6378\n"
     ]
    },
    {
     "name": "stderr",
     "output_type": "stream",
     "text": [
      "79it [00:01, 63.91it/s]\n"
     ]
    },
    {
     "name": "stdout",
     "output_type": "stream",
     "text": [
      ">> val \t Loss 0.6151 \t Running Acc 5.323 \t Total Acc 0.673 \t Avg Batch Time 0.0020\n",
      "Epoch 35/60 finished.\n",
      "Train time: 10.03 \t Val time 1.24\n",
      "Train loss 0.6396 \t Train acc: 0.6378\n",
      "Val loss: 0.6115 \t Val acc: 0.6728\n",
      "Best val acc: 0.6736 at epoch 25.\n"
     ]
    },
    {
     "name": "stderr",
     "output_type": "stream",
     "text": [
      "625it [00:10, 61.41it/s] \n"
     ]
    },
    {
     "name": "stdout",
     "output_type": "stream",
     "text": [
      ">> train \t Epoch 37/60 \t Batch 624/625 \t Loss 0.6396 \t Running Acc 0.637 \t Total Acc 0.637 \t Avg Batch Time 0.0163\n",
      "Time: train: 10.18 \t Train loss 0.6396 \t Train acc: 0.6374\n"
     ]
    },
    {
     "name": "stderr",
     "output_type": "stream",
     "text": [
      "79it [00:00, 183.48it/s]\n"
     ]
    },
    {
     "name": "stdout",
     "output_type": "stream",
     "text": [
      ">> val \t Loss 0.6151 \t Running Acc 5.323 \t Total Acc 0.673 \t Avg Batch Time 0.0007\n",
      "Epoch 36/60 finished.\n",
      "Train time: 10.18 \t Val time 0.43\n",
      "Train loss 0.6396 \t Train acc: 0.6374\n",
      "Val loss: 0.6115 \t Val acc: 0.6728\n",
      "Best val acc: 0.6736 at epoch 25.\n"
     ]
    },
    {
     "name": "stderr",
     "output_type": "stream",
     "text": [
      "625it [00:09, 62.84it/s]\n"
     ]
    },
    {
     "name": "stdout",
     "output_type": "stream",
     "text": [
      ">> train \t Epoch 38/60 \t Batch 624/625 \t Loss 0.6374 \t Running Acc 0.640 \t Total Acc 0.640 \t Avg Batch Time 0.0159\n",
      "Time: train: 9.95 \t Train loss 0.6374 \t Train acc: 0.6400\n"
     ]
    },
    {
     "name": "stderr",
     "output_type": "stream",
     "text": [
      "79it [00:00, 146.74it/s]\n"
     ]
    },
    {
     "name": "stdout",
     "output_type": "stream",
     "text": [
      ">> val \t Loss 0.6151 \t Running Acc 5.323 \t Total Acc 0.673 \t Avg Batch Time 0.0009\n",
      "Epoch 37/60 finished.\n",
      "Train time: 9.95 \t Val time 0.54\n",
      "Train loss 0.6374 \t Train acc: 0.6400\n",
      "Val loss: 0.6115 \t Val acc: 0.6728\n",
      "Best val acc: 0.6736 at epoch 25.\n"
     ]
    },
    {
     "name": "stderr",
     "output_type": "stream",
     "text": [
      "625it [00:07, 78.72it/s] \n"
     ]
    },
    {
     "name": "stdout",
     "output_type": "stream",
     "text": [
      ">> train \t Epoch 39/60 \t Batch 624/625 \t Loss 0.6382 \t Running Acc 0.639 \t Total Acc 0.639 \t Avg Batch Time 0.0127\n",
      "Time: train: 7.94 \t Train loss 0.6382 \t Train acc: 0.6390\n"
     ]
    },
    {
     "name": "stderr",
     "output_type": "stream",
     "text": [
      "79it [00:00, 146.49it/s]\n"
     ]
    },
    {
     "name": "stdout",
     "output_type": "stream",
     "text": [
      ">> val \t Loss 0.6151 \t Running Acc 5.323 \t Total Acc 0.673 \t Avg Batch Time 0.0009\n",
      "Epoch 38/60 finished.\n",
      "Train time: 7.94 \t Val time 0.54\n",
      "Train loss 0.6382 \t Train acc: 0.6390\n",
      "Val loss: 0.6115 \t Val acc: 0.6728\n",
      "Best val acc: 0.6736 at epoch 25.\n"
     ]
    },
    {
     "name": "stderr",
     "output_type": "stream",
     "text": [
      "625it [00:07, 78.20it/s] \n"
     ]
    },
    {
     "name": "stdout",
     "output_type": "stream",
     "text": [
      ">> train \t Epoch 40/60 \t Batch 624/625 \t Loss 0.6392 \t Running Acc 0.638 \t Total Acc 0.638 \t Avg Batch Time 0.0128\n",
      "Time: train: 7.99 \t Train loss 0.6392 \t Train acc: 0.6385\n"
     ]
    },
    {
     "name": "stderr",
     "output_type": "stream",
     "text": [
      "79it [00:00, 176.79it/s]\n"
     ]
    },
    {
     "name": "stdout",
     "output_type": "stream",
     "text": [
      ">> val \t Loss 0.6151 \t Running Acc 5.323 \t Total Acc 0.673 \t Avg Batch Time 0.0007\n",
      "Epoch 39/60 finished.\n",
      "Train time: 7.99 \t Val time 0.45\n",
      "Train loss 0.6392 \t Train acc: 0.6385\n",
      "Val loss: 0.6115 \t Val acc: 0.6728\n",
      "Best val acc: 0.6736 at epoch 25.\n"
     ]
    },
    {
     "name": "stderr",
     "output_type": "stream",
     "text": [
      "625it [00:07, 84.07it/s] \n"
     ]
    },
    {
     "name": "stdout",
     "output_type": "stream",
     "text": [
      ">> train \t Epoch 41/60 \t Batch 624/625 \t Loss 0.6355 \t Running Acc 0.643 \t Total Acc 0.643 \t Avg Batch Time 0.0119\n",
      "Time: train: 7.44 \t Train loss 0.6355 \t Train acc: 0.6426\n"
     ]
    },
    {
     "name": "stderr",
     "output_type": "stream",
     "text": [
      "79it [00:00, 90.49it/s]\n"
     ]
    },
    {
     "name": "stdout",
     "output_type": "stream",
     "text": [
      ">> val \t Loss 0.6151 \t Running Acc 5.323 \t Total Acc 0.673 \t Avg Batch Time 0.0014\n",
      "Epoch 40/60 finished.\n",
      "Train time: 7.44 \t Val time 0.87\n",
      "Train loss 0.6355 \t Train acc: 0.6426\n",
      "Val loss: 0.6115 \t Val acc: 0.6728\n",
      "Best val acc: 0.6736 at epoch 25.\n"
     ]
    },
    {
     "name": "stderr",
     "output_type": "stream",
     "text": [
      "625it [00:08, 76.10it/s] \n"
     ]
    },
    {
     "name": "stdout",
     "output_type": "stream",
     "text": [
      ">> train \t Epoch 42/60 \t Batch 624/625 \t Loss 0.6379 \t Running Acc 0.637 \t Total Acc 0.637 \t Avg Batch Time 0.0131\n",
      "Time: train: 8.22 \t Train loss 0.6379 \t Train acc: 0.6374\n"
     ]
    },
    {
     "name": "stderr",
     "output_type": "stream",
     "text": [
      "79it [00:00, 155.81it/s]\n"
     ]
    },
    {
     "name": "stdout",
     "output_type": "stream",
     "text": [
      ">> val \t Loss 0.6151 \t Running Acc 5.323 \t Total Acc 0.673 \t Avg Batch Time 0.0008\n",
      "Epoch 41/60 finished.\n",
      "Train time: 8.22 \t Val time 0.51\n",
      "Train loss 0.6379 \t Train acc: 0.6374\n",
      "Val loss: 0.6115 \t Val acc: 0.6728\n",
      "Best val acc: 0.6736 at epoch 25.\n"
     ]
    },
    {
     "name": "stderr",
     "output_type": "stream",
     "text": [
      "625it [00:06, 96.44it/s] \n"
     ]
    },
    {
     "name": "stdout",
     "output_type": "stream",
     "text": [
      ">> train \t Epoch 43/60 \t Batch 624/625 \t Loss 0.6366 \t Running Acc 0.638 \t Total Acc 0.638 \t Avg Batch Time 0.0104\n",
      "Time: train: 6.49 \t Train loss 0.6366 \t Train acc: 0.6382\n"
     ]
    },
    {
     "name": "stderr",
     "output_type": "stream",
     "text": [
      "79it [00:00, 198.78it/s]\n"
     ]
    },
    {
     "name": "stdout",
     "output_type": "stream",
     "text": [
      ">> val \t Loss 0.6151 \t Running Acc 5.323 \t Total Acc 0.673 \t Avg Batch Time 0.0006\n",
      "Epoch 42/60 finished.\n",
      "Train time: 6.49 \t Val time 0.40\n",
      "Train loss 0.6366 \t Train acc: 0.6382\n",
      "Val loss: 0.6115 \t Val acc: 0.6728\n",
      "Best val acc: 0.6736 at epoch 25.\n"
     ]
    },
    {
     "name": "stderr",
     "output_type": "stream",
     "text": [
      "625it [00:07, 85.12it/s] \n"
     ]
    },
    {
     "name": "stdout",
     "output_type": "stream",
     "text": [
      ">> train \t Epoch 44/60 \t Batch 624/625 \t Loss 0.6398 \t Running Acc 0.638 \t Total Acc 0.638 \t Avg Batch Time 0.0117\n",
      "Time: train: 7.34 \t Train loss 0.6398 \t Train acc: 0.6383\n"
     ]
    },
    {
     "name": "stderr",
     "output_type": "stream",
     "text": [
      "79it [00:00, 105.22it/s]\n"
     ]
    },
    {
     "name": "stdout",
     "output_type": "stream",
     "text": [
      ">> val \t Loss 0.6151 \t Running Acc 5.323 \t Total Acc 0.673 \t Avg Batch Time 0.0012\n",
      "Epoch 43/60 finished.\n",
      "Train time: 7.34 \t Val time 0.75\n",
      "Train loss 0.6398 \t Train acc: 0.6383\n",
      "Val loss: 0.6115 \t Val acc: 0.6728\n",
      "Best val acc: 0.6736 at epoch 25.\n"
     ]
    },
    {
     "name": "stderr",
     "output_type": "stream",
     "text": [
      "625it [00:07, 80.52it/s]\n"
     ]
    },
    {
     "name": "stdout",
     "output_type": "stream",
     "text": [
      ">> train \t Epoch 45/60 \t Batch 624/625 \t Loss 0.6347 \t Running Acc 0.646 \t Total Acc 0.646 \t Avg Batch Time 0.0124\n",
      "Time: train: 7.76 \t Train loss 0.6347 \t Train acc: 0.6460\n"
     ]
    },
    {
     "name": "stderr",
     "output_type": "stream",
     "text": [
      "79it [00:00, 149.84it/s]\n"
     ]
    },
    {
     "name": "stdout",
     "output_type": "stream",
     "text": [
      ">> val \t Loss 0.6151 \t Running Acc 5.323 \t Total Acc 0.673 \t Avg Batch Time 0.0008\n",
      "Epoch 44/60 finished.\n",
      "Train time: 7.76 \t Val time 0.53\n",
      "Train loss 0.6347 \t Train acc: 0.6460\n",
      "Val loss: 0.6115 \t Val acc: 0.6728\n",
      "Best val acc: 0.6736 at epoch 25.\n"
     ]
    },
    {
     "name": "stderr",
     "output_type": "stream",
     "text": [
      "625it [00:05, 105.06it/s]\n"
     ]
    },
    {
     "name": "stdout",
     "output_type": "stream",
     "text": [
      ">> train \t Epoch 46/60 \t Batch 624/625 \t Loss 0.6376 \t Running Acc 0.633 \t Total Acc 0.633 \t Avg Batch Time 0.0095\n",
      "Time: train: 5.95 \t Train loss 0.6376 \t Train acc: 0.6328\n"
     ]
    },
    {
     "name": "stderr",
     "output_type": "stream",
     "text": [
      "79it [00:00, 162.77it/s]\n"
     ]
    },
    {
     "name": "stdout",
     "output_type": "stream",
     "text": [
      ">> val \t Loss 0.6151 \t Running Acc 5.323 \t Total Acc 0.673 \t Avg Batch Time 0.0008\n",
      "Epoch 45/60 finished.\n",
      "Train time: 5.95 \t Val time 0.49\n",
      "Train loss 0.6376 \t Train acc: 0.6328\n",
      "Val loss: 0.6115 \t Val acc: 0.6728\n",
      "Best val acc: 0.6736 at epoch 25.\n"
     ]
    },
    {
     "name": "stderr",
     "output_type": "stream",
     "text": [
      "625it [00:07, 88.89it/s] \n"
     ]
    },
    {
     "name": "stdout",
     "output_type": "stream",
     "text": [
      ">> train \t Epoch 47/60 \t Batch 624/625 \t Loss 0.6370 \t Running Acc 0.643 \t Total Acc 0.643 \t Avg Batch Time 0.0113\n",
      "Time: train: 7.03 \t Train loss 0.6370 \t Train acc: 0.6430\n"
     ]
    },
    {
     "name": "stderr",
     "output_type": "stream",
     "text": [
      "79it [00:00, 119.34it/s]\n"
     ]
    },
    {
     "name": "stdout",
     "output_type": "stream",
     "text": [
      ">> val \t Loss 0.6151 \t Running Acc 5.323 \t Total Acc 0.673 \t Avg Batch Time 0.0011\n",
      "Epoch 46/60 finished.\n",
      "Train time: 7.03 \t Val time 0.66\n",
      "Train loss 0.6370 \t Train acc: 0.6430\n",
      "Val loss: 0.6115 \t Val acc: 0.6728\n",
      "Best val acc: 0.6736 at epoch 25.\n"
     ]
    },
    {
     "name": "stderr",
     "output_type": "stream",
     "text": [
      "625it [00:07, 80.96it/s] \n"
     ]
    },
    {
     "name": "stdout",
     "output_type": "stream",
     "text": [
      ">> train \t Epoch 48/60 \t Batch 624/625 \t Loss 0.6387 \t Running Acc 0.638 \t Total Acc 0.638 \t Avg Batch Time 0.0124\n",
      "Time: train: 7.72 \t Train loss 0.6387 \t Train acc: 0.6379\n"
     ]
    },
    {
     "name": "stderr",
     "output_type": "stream",
     "text": [
      "79it [00:00, 222.19it/s]\n"
     ]
    },
    {
     "name": "stdout",
     "output_type": "stream",
     "text": [
      ">> val \t Loss 0.6151 \t Running Acc 5.323 \t Total Acc 0.673 \t Avg Batch Time 0.0006\n",
      "Epoch 47/60 finished.\n",
      "Train time: 7.72 \t Val time 0.36\n",
      "Train loss 0.6387 \t Train acc: 0.6379\n",
      "Val loss: 0.6115 \t Val acc: 0.6728\n",
      "Best val acc: 0.6736 at epoch 25.\n"
     ]
    },
    {
     "name": "stderr",
     "output_type": "stream",
     "text": [
      "625it [00:05, 117.61it/s]\n"
     ]
    },
    {
     "name": "stdout",
     "output_type": "stream",
     "text": [
      ">> train \t Epoch 49/60 \t Batch 624/625 \t Loss 0.6377 \t Running Acc 0.640 \t Total Acc 0.640 \t Avg Batch Time 0.0085\n",
      "Time: train: 5.32 \t Train loss 0.6377 \t Train acc: 0.6404\n"
     ]
    },
    {
     "name": "stderr",
     "output_type": "stream",
     "text": [
      "79it [00:00, 198.23it/s]\n"
     ]
    },
    {
     "name": "stdout",
     "output_type": "stream",
     "text": [
      ">> val \t Loss 0.6151 \t Running Acc 5.323 \t Total Acc 0.673 \t Avg Batch Time 0.0006\n",
      "Epoch 48/60 finished.\n",
      "Train time: 5.32 \t Val time 0.40\n",
      "Train loss 0.6377 \t Train acc: 0.6404\n",
      "Val loss: 0.6115 \t Val acc: 0.6728\n",
      "Best val acc: 0.6736 at epoch 25.\n"
     ]
    },
    {
     "name": "stderr",
     "output_type": "stream",
     "text": [
      "625it [00:06, 99.71it/s] \n"
     ]
    },
    {
     "name": "stdout",
     "output_type": "stream",
     "text": [
      ">> train \t Epoch 50/60 \t Batch 624/625 \t Loss 0.6363 \t Running Acc 0.636 \t Total Acc 0.636 \t Avg Batch Time 0.0100\n",
      "Time: train: 6.27 \t Train loss 0.6363 \t Train acc: 0.6365\n"
     ]
    },
    {
     "name": "stderr",
     "output_type": "stream",
     "text": [
      "79it [00:00, 176.13it/s]\n"
     ]
    },
    {
     "name": "stdout",
     "output_type": "stream",
     "text": [
      ">> val \t Loss 0.6151 \t Running Acc 5.323 \t Total Acc 0.673 \t Avg Batch Time 0.0007\n",
      "Epoch 49/60 finished.\n",
      "Train time: 6.27 \t Val time 0.45\n",
      "Train loss 0.6363 \t Train acc: 0.6365\n",
      "Val loss: 0.6115 \t Val acc: 0.6728\n",
      "Best val acc: 0.6736 at epoch 25.\n"
     ]
    },
    {
     "name": "stderr",
     "output_type": "stream",
     "text": [
      "625it [00:05, 109.32it/s]\n"
     ]
    },
    {
     "name": "stdout",
     "output_type": "stream",
     "text": [
      ">> train \t Epoch 51/60 \t Batch 624/625 \t Loss 0.6393 \t Running Acc 0.641 \t Total Acc 0.641 \t Avg Batch Time 0.0091\n",
      "Time: train: 5.72 \t Train loss 0.6393 \t Train acc: 0.6411\n"
     ]
    },
    {
     "name": "stderr",
     "output_type": "stream",
     "text": [
      "79it [00:00, 215.41it/s]\n"
     ]
    },
    {
     "name": "stdout",
     "output_type": "stream",
     "text": [
      ">> val \t Loss 0.6151 \t Running Acc 5.323 \t Total Acc 0.673 \t Avg Batch Time 0.0006\n",
      "Epoch 50/60 finished.\n",
      "Train time: 5.72 \t Val time 0.37\n",
      "Train loss 0.6393 \t Train acc: 0.6411\n",
      "Val loss: 0.6115 \t Val acc: 0.6728\n",
      "Best val acc: 0.6736 at epoch 25.\n"
     ]
    },
    {
     "name": "stderr",
     "output_type": "stream",
     "text": [
      "625it [00:05, 116.27it/s]\n"
     ]
    },
    {
     "name": "stdout",
     "output_type": "stream",
     "text": [
      ">> train \t Epoch 52/60 \t Batch 624/625 \t Loss 0.6384 \t Running Acc 0.636 \t Total Acc 0.636 \t Avg Batch Time 0.0086\n",
      "Time: train: 5.38 \t Train loss 0.6384 \t Train acc: 0.6361\n"
     ]
    },
    {
     "name": "stderr",
     "output_type": "stream",
     "text": [
      "79it [00:00, 177.35it/s]\n"
     ]
    },
    {
     "name": "stdout",
     "output_type": "stream",
     "text": [
      ">> val \t Loss 0.6151 \t Running Acc 5.323 \t Total Acc 0.673 \t Avg Batch Time 0.0007\n",
      "Epoch 51/60 finished.\n",
      "Train time: 5.38 \t Val time 0.45\n",
      "Train loss 0.6384 \t Train acc: 0.6361\n",
      "Val loss: 0.6115 \t Val acc: 0.6728\n",
      "Best val acc: 0.6736 at epoch 25.\n"
     ]
    },
    {
     "name": "stderr",
     "output_type": "stream",
     "text": [
      "625it [00:06, 101.74it/s]\n"
     ]
    },
    {
     "name": "stdout",
     "output_type": "stream",
     "text": [
      ">> train \t Epoch 53/60 \t Batch 624/625 \t Loss 0.6395 \t Running Acc 0.638 \t Total Acc 0.638 \t Avg Batch Time 0.0098\n",
      "Time: train: 6.15 \t Train loss 0.6395 \t Train acc: 0.6379\n"
     ]
    },
    {
     "name": "stderr",
     "output_type": "stream",
     "text": [
      "79it [00:00, 207.27it/s]\n"
     ]
    },
    {
     "name": "stdout",
     "output_type": "stream",
     "text": [
      ">> val \t Loss 0.6151 \t Running Acc 5.323 \t Total Acc 0.673 \t Avg Batch Time 0.0006\n",
      "Epoch 52/60 finished.\n",
      "Train time: 6.15 \t Val time 0.38\n",
      "Train loss 0.6395 \t Train acc: 0.6379\n",
      "Val loss: 0.6115 \t Val acc: 0.6728\n",
      "Best val acc: 0.6736 at epoch 25.\n"
     ]
    },
    {
     "name": "stderr",
     "output_type": "stream",
     "text": [
      "625it [00:05, 123.65it/s]\n"
     ]
    },
    {
     "name": "stdout",
     "output_type": "stream",
     "text": [
      ">> train \t Epoch 54/60 \t Batch 624/625 \t Loss 0.6387 \t Running Acc 0.638 \t Total Acc 0.638 \t Avg Batch Time 0.0081\n",
      "Time: train: 5.06 \t Train loss 0.6387 \t Train acc: 0.6376\n"
     ]
    },
    {
     "name": "stderr",
     "output_type": "stream",
     "text": [
      "79it [00:00, 218.03it/s]\n"
     ]
    },
    {
     "name": "stdout",
     "output_type": "stream",
     "text": [
      ">> val \t Loss 0.6151 \t Running Acc 5.323 \t Total Acc 0.673 \t Avg Batch Time 0.0006\n",
      "Epoch 53/60 finished.\n",
      "Train time: 5.06 \t Val time 0.36\n",
      "Train loss 0.6387 \t Train acc: 0.6376\n",
      "Val loss: 0.6115 \t Val acc: 0.6728\n",
      "Best val acc: 0.6736 at epoch 25.\n"
     ]
    },
    {
     "name": "stderr",
     "output_type": "stream",
     "text": [
      "625it [00:05, 118.87it/s]\n"
     ]
    },
    {
     "name": "stdout",
     "output_type": "stream",
     "text": [
      ">> train \t Epoch 55/60 \t Batch 624/625 \t Loss 0.6386 \t Running Acc 0.640 \t Total Acc 0.640 \t Avg Batch Time 0.0084\n",
      "Time: train: 5.26 \t Train loss 0.6386 \t Train acc: 0.6402\n"
     ]
    },
    {
     "name": "stderr",
     "output_type": "stream",
     "text": [
      "79it [00:00, 222.58it/s]\n"
     ]
    },
    {
     "name": "stdout",
     "output_type": "stream",
     "text": [
      ">> val \t Loss 0.6151 \t Running Acc 5.323 \t Total Acc 0.673 \t Avg Batch Time 0.0006\n",
      "Epoch 54/60 finished.\n",
      "Train time: 5.26 \t Val time 0.36\n",
      "Train loss 0.6386 \t Train acc: 0.6402\n",
      "Val loss: 0.6115 \t Val acc: 0.6728\n",
      "Best val acc: 0.6736 at epoch 25.\n"
     ]
    },
    {
     "name": "stderr",
     "output_type": "stream",
     "text": [
      "625it [00:06, 100.23it/s]\n"
     ]
    },
    {
     "name": "stdout",
     "output_type": "stream",
     "text": [
      ">> train \t Epoch 56/60 \t Batch 624/625 \t Loss 0.6386 \t Running Acc 0.638 \t Total Acc 0.638 \t Avg Batch Time 0.0100\n",
      "Time: train: 6.24 \t Train loss 0.6386 \t Train acc: 0.6385\n"
     ]
    },
    {
     "name": "stderr",
     "output_type": "stream",
     "text": [
      "79it [00:00, 183.02it/s]\n"
     ]
    },
    {
     "name": "stdout",
     "output_type": "stream",
     "text": [
      ">> val \t Loss 0.6151 \t Running Acc 5.323 \t Total Acc 0.673 \t Avg Batch Time 0.0007\n",
      "Epoch 55/60 finished.\n",
      "Train time: 6.24 \t Val time 0.43\n",
      "Train loss 0.6386 \t Train acc: 0.6385\n",
      "Val loss: 0.6115 \t Val acc: 0.6728\n",
      "Best val acc: 0.6736 at epoch 25.\n"
     ]
    },
    {
     "name": "stderr",
     "output_type": "stream",
     "text": [
      "625it [00:05, 115.41it/s]\n"
     ]
    },
    {
     "name": "stdout",
     "output_type": "stream",
     "text": [
      ">> train \t Epoch 57/60 \t Batch 624/625 \t Loss 0.6375 \t Running Acc 0.642 \t Total Acc 0.642 \t Avg Batch Time 0.0087\n",
      "Time: train: 5.42 \t Train loss 0.6375 \t Train acc: 0.6416\n"
     ]
    },
    {
     "name": "stderr",
     "output_type": "stream",
     "text": [
      "79it [00:00, 165.02it/s]\n"
     ]
    },
    {
     "name": "stdout",
     "output_type": "stream",
     "text": [
      ">> val \t Loss 0.6151 \t Running Acc 5.323 \t Total Acc 0.673 \t Avg Batch Time 0.0008\n",
      "Epoch 56/60 finished.\n",
      "Train time: 5.42 \t Val time 0.48\n",
      "Train loss 0.6375 \t Train acc: 0.6416\n",
      "Val loss: 0.6115 \t Val acc: 0.6728\n",
      "Best val acc: 0.6736 at epoch 25.\n"
     ]
    },
    {
     "name": "stderr",
     "output_type": "stream",
     "text": [
      "625it [00:06, 99.18it/s] \n"
     ]
    },
    {
     "name": "stdout",
     "output_type": "stream",
     "text": [
      ">> train \t Epoch 58/60 \t Batch 624/625 \t Loss 0.6392 \t Running Acc 0.637 \t Total Acc 0.637 \t Avg Batch Time 0.0101\n",
      "Time: train: 6.30 \t Train loss 0.6392 \t Train acc: 0.6375\n"
     ]
    },
    {
     "name": "stderr",
     "output_type": "stream",
     "text": [
      "79it [00:00, 141.05it/s]\n"
     ]
    },
    {
     "name": "stdout",
     "output_type": "stream",
     "text": [
      ">> val \t Loss 0.6151 \t Running Acc 5.323 \t Total Acc 0.673 \t Avg Batch Time 0.0009\n",
      "Epoch 57/60 finished.\n",
      "Train time: 6.30 \t Val time 0.56\n",
      "Train loss 0.6392 \t Train acc: 0.6375\n",
      "Val loss: 0.6115 \t Val acc: 0.6728\n",
      "Best val acc: 0.6736 at epoch 25.\n"
     ]
    },
    {
     "name": "stderr",
     "output_type": "stream",
     "text": [
      "625it [00:05, 110.81it/s]\n"
     ]
    },
    {
     "name": "stdout",
     "output_type": "stream",
     "text": [
      ">> train \t Epoch 59/60 \t Batch 624/625 \t Loss 0.6377 \t Running Acc 0.638 \t Total Acc 0.638 \t Avg Batch Time 0.0090\n",
      "Time: train: 5.64 \t Train loss 0.6377 \t Train acc: 0.6383\n"
     ]
    },
    {
     "name": "stderr",
     "output_type": "stream",
     "text": [
      "79it [00:00, 164.66it/s]\n"
     ]
    },
    {
     "name": "stdout",
     "output_type": "stream",
     "text": [
      ">> val \t Loss 0.6151 \t Running Acc 5.323 \t Total Acc 0.673 \t Avg Batch Time 0.0008\n",
      "Epoch 58/60 finished.\n",
      "Train time: 5.64 \t Val time 0.48\n",
      "Train loss 0.6377 \t Train acc: 0.6383\n",
      "Val loss: 0.6115 \t Val acc: 0.6728\n",
      "Best val acc: 0.6736 at epoch 25.\n"
     ]
    },
    {
     "name": "stderr",
     "output_type": "stream",
     "text": [
      "625it [00:05, 108.09it/s]\n"
     ]
    },
    {
     "name": "stdout",
     "output_type": "stream",
     "text": [
      ">> train \t Epoch 60/60 \t Batch 624/625 \t Loss 0.6379 \t Running Acc 0.641 \t Total Acc 0.641 \t Avg Batch Time 0.0093\n",
      "Time: train: 5.78 \t Train loss 0.6379 \t Train acc: 0.6413\n"
     ]
    },
    {
     "name": "stderr",
     "output_type": "stream",
     "text": [
      "79it [00:00, 194.85it/s]\n"
     ]
    },
    {
     "name": "stdout",
     "output_type": "stream",
     "text": [
      ">> val \t Loss 0.6151 \t Running Acc 5.323 \t Total Acc 0.673 \t Avg Batch Time 0.0006\n",
      "Epoch 59/60 finished.\n",
      "Train time: 5.78 \t Val time 0.41\n",
      "Train loss 0.6379 \t Train acc: 0.6413\n",
      "Val loss: 0.6115 \t Val acc: 0.6728\n",
      "Best val acc: 0.6736 at epoch 25.\n"
     ]
    },
    {
     "name": "stderr",
     "output_type": "stream",
     "text": [
      "79it [00:00, 167.73it/s]"
     ]
    },
    {
     "name": "stdout",
     "output_type": "stream",
     "text": [
      ">> test \t Loss 0.6185 \t Running Acc 5.266 \t Total Acc 0.666 \t Avg Batch Time 0.0008\n",
      "Final  tensor([[1.0000, 0.5711, 0.4289],\n",
      "        [0.0000, 0.4900, 0.5100],\n",
      "        [0.0000, 0.2934, 0.7066],\n",
      "        ...,\n",
      "        [0.0000, 0.4876, 0.5124],\n",
      "        [0.0000, 0.6398, 0.3602],\n",
      "        [0.0000, 0.3992, 0.6008]], device='cuda:0', dtype=torch.float64)\n",
      "Test: Loss 0.6178 \t Acc 0.6656 \t AUC: 0.7226 \t 1/eB 0.3: 13.8864 \t 1/eB 0.5: 5.5045\n"
     ]
    },
    {
     "name": "stderr",
     "output_type": "stream",
     "text": [
      "\n"
     ]
    }
   ],
   "source": [
    "if __name__ == \"__main__\":\n",
    "    \n",
    "    N_EPOCHS = 60\n",
    "\n",
    "    # put your model and log path here.\n",
    "    model_path = \"../models/LieEQGNN/\"\n",
    "    log_path = \"../logs/LieEQGNN/\"\n",
    "\n",
    "    ### set random seed\n",
    "    torch.manual_seed(42)\n",
    "    np.random.seed(42)\n",
    "\n",
    "    ### initialize cuda\n",
    "    device = 'cuda' #torch.device(\"cuda\")\n",
    "    dtype = torch.float64\n",
    "\n",
    "    model = LieEQGNN(n_scalar = 1, n_hidden = 4, n_class = 2,\\\n",
    "                       dropout = 0.2, n_layers = 1,\\\n",
    "                       c_weight = 1e-3).to(device, dtype)\n",
    "\n",
    "    ### print model and dataset information\n",
    "    pytorch_total_params = sum(p.numel() for p in model.parameters())\n",
    "    print(\"Model Size:\", pytorch_total_params)\n",
    "    for (split, dataloader) in dataloaders.items():\n",
    "        print(f\" {split} samples: {len(dataloader.dataset)}\")\n",
    "\n",
    "    ### optimizer\n",
    "    optimizer = optim.AdamW(model.parameters(), lr=1e-3, weight_decay=1e-2)\n",
    "\n",
    "    ### lr scheduler\n",
    "    base_scheduler = CosineAnnealingWarmRestarts(optimizer, 4, 2)\n",
    "    lr_scheduler = GradualWarmupScheduler(optimizer, multiplier=1,\\\n",
    "                                                warmup_epoch=5,\\\n",
    "                                                after_scheduler=base_scheduler) ## warmup\n",
    "\n",
    "    ### loss function\n",
    "    loss_fn = nn.CrossEntropyLoss()\n",
    "\n",
    "    ### initialize logs\n",
    "    res = {'epochs': [], 'lr' : [],\\\n",
    "           'train_time': [], 'val_time': [],  'train_loss': [], 'val_loss': [],\\\n",
    "           'train_acc': [], 'val_acc': [], 'best_val': 0, 'best_epoch': 0}\n",
    "\n",
    "    ### training and testing\n",
    "    print(\"Training...\")\n",
    "    train(model, res, N_EPOCHS, model_path, log_path)\n",
    "    test(model, res, model_path, log_path)"
   ]
  },
  {
   "cell_type": "markdown",
   "metadata": {
    "collapsed": true,
    "jupyter": {
     "outputs_hidden": true
    }
   },
   "source": [
    "## Plots"
   ]
  },
  {
   "cell_type": "code",
   "execution_count": 23,
   "metadata": {},
   "outputs": [
    {
     "data": {
      "image/png": "[encoded data removed]",
      "text/plain": [
       "<Figure size 1200x600 with 1 Axes>"
      ]
     },
     "metadata": {},
     "output_type": "display_data"
    },
    {
     "data": {
      "image/png": "[encoded data removed]",
      "text/plain": [
       "<Figure size 1200x600 with 1 Axes>"
      ]
     },
     "metadata": {},
     "output_type": "display_data"
    }
   ],
   "source": [
    "with open(log_path) as f:\n",
    "\n",
    "    data = json.load(f)\n",
    "    epochs = data[\"epochs\"]\n",
    "    train_loss = data[\"train_loss\"]\n",
    "    val_loss = data[\"val_loss\"]\n",
    "    train_acc = data[\"train_acc\"]\n",
    "    val_acc = data[\"val_acc\"]\n",
    "    \n",
    "    # Plotting Loss\n",
    "    plt.figure(figsize=(12, 6))\n",
    "    plt.plot(epochs, train_loss, label='Train Loss', color='blue', linestyle='--')\n",
    "    plt.plot(epochs, val_loss, label='Validation Loss', color='blue', linestyle='-')\n",
    "    plt.xlabel('Epoch')\n",
    "    plt.ylabel('Loss')\n",
    "    plt.title(model_name)\n",
    "    plt.legend()\n",
    "    plt.grid(True)\n",
    "    plt.show()\n",
    "    \n",
    "    # Plotting Accuracy\n",
    "    plt.figure(figsize=(12, 6))\n",
    "    plt.plot(epochs, train_acc, label='Train Accuracy', color='green', linestyle='--')\n",
    "    plt.plot(epochs, val_acc, label='Validation Accuracy', color='green', linestyle='-')\n",
    "    plt.xlabel('Epoch')\n",
    "    plt.ylabel('Accuracy')\n",
    "    plt.title(model_name)\n",
    "    plt.legend()\n",
    "    plt.grid(True)\n",
    "    plt.show()"
   ]
  },
  {
   "cell_type": "markdown",
   "metadata": {},
   "source": [
    "## References\n",
    "\n",
    "[1] Neto, Jogi Suda, et al. \"[Lie-Equivariant Quantum Graph Neural Networks.](https://arxiv.org/abs/2411.15315)\" arXiv preprint arXiv:2411.15315 (2024).\n",
    "\n",
    "[2] Shlomi, et al. \"[Graph neural networks in particle physics.](https://arxiv.org/abs/2007.13681)\" Machine Learning: Science and Technology 2.2 (2020): 021001.\n",
    "\n",
    "[2] Jonas M. Kübler, et al. \"[The inductive bias of quantum kernels](https://proceedings.neurips.cc/paper/2021/file/69adc1e107f7f7d035d7baf04342e1ca-Paper.pdf)\", 2021.\n",
    "\n",
    "[3] Jarrod R. McClean, et al. \"[Barren plateaus in quantum neural network training landscapes](https://www.nature.com/articles/s41467-018-07090-4)\". Nature Communications, 9(1), November 2018.\n",
    "\n",
    "[4] M. Cerezo, et al. \"[Cost function dependent barren plateaus in shallow parametrized quantum circuits](https://www.nature.com/articles/s41467-021-21728-w)\". Nature Communications, 12(1), March 2021.\n",
    "\n",
    "[5] Tüysüz, Cenk, et al. \"[Symmetry breaking in geometric quantum machine learning in the presence of noise.](https://journals.aps.org/prxquantum/abstract/10.1103/PRXQuantum.5.030314)\" PRX Quantum 5.3 (2024): 030314.\n",
    "\n",
    "[5] Forestano, Roy T., et al. \"[Deep learning symmetries and their Lie groups, algebras, and subalgebras from first principles.](https://arxiv.org/abs/2301.05638)\" Machine Learning: Science and Technology 4.2 (2023): 025027.\n",
    "\n",
    "[6] Gong, S., et al. \"An Efficient Lorentz Equivariant Graph Neural Network for Jet Tagging\" [arXiv:2201.08187](https://arxiv.org/abs/2201.08187).\n",
    "\n",
    "[7] Komiske, P. T., Metodiev, E. M., & Thaler, J. \"EnergyFlow: A Python Package for High Energy Physics.\" [EnergyFlow](https://energyflow.network/)."
   ]
  }
 ],
 "metadata": {
  "kernelspec": {
   "display_name": "QML (QiBO)",
   "language": "python",
   "name": "qml_qibo"
  },
  "language_info": {
   "codemirror_mode": {
    "name": "ipython",
    "version": 3
   },
   "file_extension": ".py",
   "mimetype": "text/x-python",
   "name": "python",
   "nbconvert_exporter": "python",
   "pygments_lexer": "ipython3",
   "version": "3.11.11"
  }
 },
 "nbformat": 4,
 "nbformat_minor": 4
}
