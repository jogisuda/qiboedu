{
 "cells": [
  {
   "cell_type": "markdown",
   "id": "713655d2-ae03-4d27-8491-010d94861865",
   "metadata": {},
   "source": [
    "# Lecture 7: mitigating the noise\n",
    "\n",
    "<center><img src=\"../../figures/qibo_mascotte/qibo_mit.png\" alt=\"drawing\" width=\"400\"/></center>\n",
    "<center>Qibo the mangoose mitigating noise [DALL-E].</center>\n",
    "\n",
    "## Introduction\n",
    "\n",
    "In lecture 4 we have learnt how to simulate a noisy system using Pauli noise channels.\n",
    "\n",
    "We typically approach a noisy system in two different ways:\n",
    "\n",
    "1. **quantum error correction (QEC)**, which involves a series of techniques which aim to detect and remove actively the noise from a bench of qubits of a quantum system. It needs a large number of physical qubits to actually correct and protect the state of a restricted number of them. Thanks to QEC the noise is practically removed (or corrected) from some qubits of a system.\n",
    "2. **quantum error mitigation (QEM)** consists in a collection of algorithms used to learn a noise map, which is then used to mitigate the noisy results. These methods doesn't correct the noise, but can be seen as post-processing techniques to extract an estimation of the noiseless results on top of the knowledge we have of the system.\n",
    "\n",
    "In this lecture we are going to focus on a specific QEM technique: the Clifford Data Regression (CDR)."
   ]
  },
  {
   "cell_type": "code",
   "execution_count": 1,
   "id": "c333db53-d51e-4ff2-b79a-72d95793a7de",
   "metadata": {},
   "outputs": [],
   "source": [
    "# if you don't have already qibo, qibojit and qiboedu installed in your computer\n",
    "# uncomment and execute the following lines \n",
    "\n",
    "# !pip install qibo\n",
    "# !pip install qibojit\n",
    "# !pip install git+https://github.com/qiboteam/qiboedu"
   ]
  },
  {
   "cell_type": "code",
   "execution_count": 2,
   "id": "f0309393-bd22-4fd1-b4ff-5eeeff3d4350",
   "metadata": {},
   "outputs": [],
   "source": [
    "import numpy as np\n",
    "import matplotlib.pyplot as plt\n",
    "\n",
    "import qibo\n",
    "from qibo import Circuit, gates, hamiltonians\n",
    "from qibo.models import error_mitigation\n",
    "from qibo.noise import PauliError, NoiseModel"
   ]
  },
  {
   "cell_type": "code",
   "execution_count": 3,
   "id": "2fe8722e-d799-4e17-9fda-13ce147d76c4",
   "metadata": {},
   "outputs": [
    {
     "name": "stderr",
     "output_type": "stream",
     "text": [
      "[Qibo 0.2.15|INFO|2025-01-16 15:56:41]: Using numpy backend on /CPU:0\n"
     ]
    }
   ],
   "source": [
    "qibo.set_backend(\"numpy\")"
   ]
  },
  {
   "cell_type": "markdown",
   "id": "d282489d-52d2-4ea5-80fe-6de5c32f7620",
   "metadata": {},
   "source": [
    "#### Clifford Data Regression\n",
    "\n",
    "##### The target circuit \n",
    "\n",
    "The idea behind the CDR is very simple and effective: we consider a target circuit $U$, which we aim to execute in order to compute some expectation value \n",
    "$$ \\langle \\mathcal{O} \\rangle^U \\equiv \\langle 0 | U^{\\dagger}\\, \\mathcal{O}\\, U | 0 \\rangle \\\\. $$\n",
    "We are going to inherit the same problem of the lecture 4:"
   ]
  },
  {
   "cell_type": "code",
   "execution_count": 4,
   "id": "cf9899b3-77fc-4f5c-ac46-b0fd323d92c1",
   "metadata": {},
   "outputs": [
    {
     "name": "stdout",
     "output_type": "stream",
     "text": [
      "0: ─RY─RZ─o───RY─RZ─o───RY─RZ─o───M─\n",
      "1: ─RY─RZ─X─o─RY─RZ─X─o─RY─RZ─X─o─M─\n",
      "2: ─RY─RZ───X─RY─RZ───X─RY─RZ───X─M─\n"
     ]
    }
   ],
   "source": [
    "# problem definition\n",
    "nqubits = 3\n",
    "nlayers = 3\n",
    "\n",
    "c = Circuit(nqubits, density_matrix=True)\n",
    "for l in range(nlayers):\n",
    "    for q in range(nqubits):\n",
    "        c.add(gates.RY(q=q, theta=0))\n",
    "        c.add(gates.RZ(q=q, theta=0))\n",
    "    for q in range(0, nqubits-1, 1):\n",
    "        c.add(gates.CNOT(q0=q, q1=q+1))\n",
    "c.add(gates.M(*range(nqubits)))\n",
    "\n",
    "# set the angles\n",
    "nparams = len(c.get_parameters())\n",
    "angles = np.linspace(0, 2*np.pi, nparams)\n",
    "\n",
    "# set the angles into the circuit\n",
    "c.set_parameters(angles)\n",
    "\n",
    "c.draw()\n",
    "\n",
    "# observable definition\n",
    "obs = hamiltonians.Z(nqubits=nqubits)"
   ]
  },
  {
   "cell_type": "markdown",
   "id": "f47243b2-3b94-496e-adbc-87fa6d0a5eb0",
   "metadata": {},
   "source": [
    "##### A training set of semi-Clifford circuits\n",
    "Once the problem is set up, we collect a set of circuits $\\{C^i\\}$, which have the same dimension of $U$, but they are mostly composed of Clifford gates. The idea is to create a set of circuits whose shape is similar to our target, but they are fastly simulable on a classical computer.\n",
    "\n",
    "We are going to use the already implemented CDR we have in `qibo`, in which the circuits $C^i$ are generated using the following function"
   ]
  },
  {
   "cell_type": "code",
   "execution_count": 5,
   "id": "eb146a0f-a90c-4d00-8442-fa63419c3684",
   "metadata": {},
   "outputs": [],
   "source": [
    "cdr_circuit = error_mitigation.sample_training_circuit_cdr(c)"
   ]
  },
  {
   "cell_type": "markdown",
   "id": "75f66829-b00f-411f-9ef2-b74a8a5fc9ce",
   "metadata": {},
   "source": [
    "which changes some of the non-Clifford gates of the circuit with Clifford ones. In this particular case, some of the $RZ$ gates, which are non-Clifford if filled with general angles, are \"cliffordized\" by replacing the angles with multiples of $\\pi/2$. "
   ]
  },
  {
   "cell_type": "code",
   "execution_count": 6,
   "id": "2e509392-5f55-4dda-8324-fec1888ce146",
   "metadata": {},
   "outputs": [
    {
     "name": "stdout",
     "output_type": "stream",
     "text": [
      "Original circuit:\n",
      "\n",
      "0: ─RY─RZ─o───RY─RZ─o───RY─RZ─o───M─\n",
      "1: ─RY─RZ─X─o─RY─RZ─X─o─RY─RZ─X─o─M─\n",
      "2: ─RY─RZ───X─RY─RZ───X─RY─RZ───X─M─\n",
      "\n",
      "\n",
      "Circuit:\n",
      "\n",
      "0: ─RY─RZ─o───RY─RZ─o───RY─RZ─o───M─\n",
      "1: ─RY─RZ─X─o─RY─RZ─X─o─RY─RZ─X─o─M─\n",
      "2: ─RY─RZ───X─RY─RZ───X─RY─RZ───X─M─\n",
      "\n",
      "\n",
      "Old angles:\n",
      "[0.         0.36959914 0.73919827 1.10879741 1.47839654 1.84799568\n",
      " 2.21759481 2.58719395 2.95679309 3.32639222 3.69599136 4.06559049\n",
      " 4.43518963 4.80478876 5.1743879  5.54398704 5.91358617 6.28318531]\n",
      "\n",
      "New angles:\n",
      "[(0.0,), (0.0,), (0.7391982714328925,), (1.1087974071493387,), (1.478396542865785,), (1.5707963267948966,), (2.2175948142986774,), (3.141592653589793,), (2.95679308573157,), (3.326392221448016,), (3.6959913571644627,), (4.065590492880909,), (4.435189628597355,), (4.71238898038469,), (5.174387900030248,), (5.543987035746694,), (5.91358617146314,), (6.283185307179586,)]\n",
      "\n"
     ]
    }
   ],
   "source": [
    "print(f\"Original circuit:\\n\")\n",
    "c.draw()\n",
    "print(\"\\n\")\n",
    "print(f\"Circuit:\\n\")\n",
    "cdr_circuit.draw()\n",
    "print(\"\\n\")\n",
    "print(f\"Old angles:\\n{angles}\\n\")\n",
    "print(f\"New angles:\\n{cdr_circuit.get_parameters()}\\n\")"
   ]
  },
  {
   "cell_type": "markdown",
   "id": "ee5010dd-fe2c-425b-8fd3-ccb55c90a567",
   "metadata": {},
   "source": [
    "##### The noise map $\\ell$\n",
    "\n",
    "At this point, we compute both noisy $ \\{ \\langle \\mathcal{O} \\rangle^i_{\\rm noisy} \\}$ and noiseless  $\\{\\langle \\mathcal{O} \\rangle^i \\}$ expectation values executing the circuits $\\{C^i\\}$ on a noisy device and on a classical exact simulator.\n",
    "\n",
    "We then fit the scatterplot $\\langle \\mathcal{O} \\rangle_{\\rm noisy}$ vs.  $\\langle \\mathcal{O} \\rangle$ with some map $\\ell$.\n",
    "\n",
    "For doing this, we use the `error_mitigation.CDR` method. \n",
    "The method requires a noise model to be defined if we are simulating. In order to reproduce the same noise of lecture 4, we build the following noise model:"
   ]
  },
  {
   "cell_type": "code",
   "execution_count": 7,
   "id": "119fa26b-f111-4e80-a9d2-9a4d0f92284e",
   "metadata": {},
   "outputs": [],
   "source": [
    "noise = NoiseModel()\n",
    "noise.add(PauliError([(\"X\", 0.007), (\"Z\", 0.008)]), qubits=0)\n",
    "noise.add(PauliError([(\"Y\", 0.01), (\"Z\", 0.005)]), qubits=1)\n",
    "noise.add(PauliError([(\"X\", 0.008), (\"Z\", 0.007)]), qubits=2)"
   ]
  },
  {
   "cell_type": "markdown",
   "id": "66562a9a-83ba-43e8-989d-fc4d45d8a967",
   "metadata": {},
   "source": [
    "Now we are ready to call the mitigation method."
   ]
  },
  {
   "cell_type": "code",
   "execution_count": 8,
   "id": "8eb3cd8c-9d34-4b26-bb9c-3c03741ad464",
   "metadata": {},
   "outputs": [],
   "source": [
    "# this will take some time!\n",
    "mit_exp, noisy_exp, fit_params, training_data = error_mitigation.CDR(\n",
    "    circuit=c, \n",
    "    observable=obs, \n",
    "    noise_model=noise,\n",
    "    nshots=50000,\n",
    "    n_training_samples=50,\n",
    "    full_output=True\n",
    ")"
   ]
  },
  {
   "cell_type": "markdown",
   "id": "af12df18-41f1-4b2b-9b5b-b4409a1dacef",
   "metadata": {},
   "source": [
    "By setting `full_output=True` we are saving many information about the QEM method:\n",
    "1. the mitigated expectation value;\n",
    "2. the noisy expectation value;\n",
    "3. the fitted parameters according to the chosen map form $\\ell$;\n",
    "4. the whole set of $\\langle \\mathcal{O} \\rangle_{\\rm noisy}$ and $\\langle \\mathcal{O} \\rangle$ collected using the training circuits $C^i$."
   ]
  },
  {
   "cell_type": "code",
   "execution_count": 9,
   "id": "83a15731-8fec-4904-b4ff-2e17875c48f1",
   "metadata": {},
   "outputs": [
    {
     "data": {
      "image/png": "[encoded data removed]",
      "text/plain": [
       "<Figure size 600x450 with 1 Axes>"
      ]
     },
     "metadata": {},
     "output_type": "display_data"
    }
   ],
   "source": [
    "x = np.linspace(-0.2, 0.8, 100)\n",
    "y = fit_params[0] * x + fit_params[1]\n",
    "\n",
    "plt.figure(figsize=(6, 6 * 6/8))\n",
    "plt.title(\"Noisy vs. noiseless results\")\n",
    "plt.ylabel(r\"$\\langle \\mathcal{O} \\rangle_{\\rm noisy}$\")\n",
    "plt.xlabel(r\"$\\langle \\mathcal{O} \\rangle$\")\n",
    "plt.plot(x, y, color=\"black\", ls=\"--\", label=r\"Noise map $\\ell$\")\n",
    "plt.scatter(training_data[\"noisy\"], training_data[\"noise-free\"], color=\"purple\", alpha=0.6, s=50, label=\"Training circuits\")\n",
    "plt.vlines(0, -0.2, 1.2, color=\"black\", ls=\"-\", lw=1)\n",
    "plt.hlines(0, -0.2, 0.8, color=\"black\", ls=\"-\", lw=1)\n",
    "plt.grid(True)\n",
    "plt.legend()\n",
    "plt.show()"
   ]
  },
  {
   "cell_type": "markdown",
   "id": "44fdd08c-68dc-4c63-aa11-0189a1b31b36",
   "metadata": {},
   "source": [
    "And, thanks to the CDR, we get a cleaner expectation value"
   ]
  },
  {
   "cell_type": "code",
   "execution_count": 10,
   "id": "e6540337-b85a-4d89-8003-ef2890f67692",
   "metadata": {},
   "outputs": [
    {
     "name": "stdout",
     "output_type": "stream",
     "text": [
      "Noisy expectation value: 0.32527999999999996\n",
      "Mitigated expectation value: 0.561173328355093\n",
      "Noiseless expectation value: 0.602\n"
     ]
    }
   ],
   "source": [
    "print(f\"Noisy expectation value: {noisy_exp}\")\n",
    "print(f\"Mitigated expectation value: {mit_exp}\")\n",
    "print(f\"Noiseless expectation value: {0.602}\")"
   ]
  },
  {
   "cell_type": "markdown",
   "id": "b3fda724-db7e-41fc-b4ca-2de72df51d00",
   "metadata": {},
   "source": [
    "Which is closer to the exact one with respect to the noisy result!"
   ]
  }
 ],
 "metadata": {
  "kernelspec": {
   "display_name": "Python 3 (ipykernel)",
   "language": "python",
   "name": "python3"
  },
  "language_info": {
   "codemirror_mode": {
    "name": "ipython",
    "version": 3
   },
   "file_extension": ".py",
   "mimetype": "text/x-python",
   "name": "python",
   "nbconvert_exporter": "python",
   "pygments_lexer": "ipython3",
   "version": "3.10.0"
  }
 },
 "nbformat": 4,
 "nbformat_minor": 5
}
